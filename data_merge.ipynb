{
 "cells": [
  {
   "cell_type": "code",
   "execution_count": 1,
   "metadata": {},
   "outputs": [],
   "source": [
    "import numpy as np\n",
    "import pandas as pd\n",
    "import math\n",
    "import matplotlib.pyplot as plt"
   ]
  },
  {
   "cell_type": "code",
   "execution_count": 7,
   "metadata": {},
   "outputs": [],
   "source": [
    "data09 = pd.read_excel('DDS9_Data_Extract_with_labels.xlsx', encoding='latin1')\n",
    "data10 = pd.read_excel('DDS10_Data_Extract_with_labels.xlsx', encoding='latin1')\n",
    "data11 = pd.read_excel('DDS11_Data_Extract_with_labels.xlsx', encoding='latin1')"
   ]
  },
  {
   "cell_type": "code",
   "execution_count": 8,
   "metadata": {},
   "outputs": [
    {
     "name": "stdout",
     "output_type": "stream",
     "text": [
      "(2076, 191)\n",
      "(2205, 197)\n",
      "(2131, 198)\n"
     ]
    }
   ],
   "source": [
    "print(data09.shape)\n",
    "print(data10.shape)\n",
    "print(data11.shape)"
   ]
  },
  {
   "cell_type": "markdown",
   "metadata": {},
   "source": [
    "By printing the shape of the three year's worth of data we can see two important pieces of take-aways:\n",
    "1. Each of the years has a similar number of observations. This is good as it means we won't be overreliant on one year's data which may have undue influence on the results.\n",
    "2. We have a different number of features for each year. Having 1/3 or more of observations automatically not having any data for one of the features is a problem.\n",
    "\n",
    "In order to account for 2, the first step will be to identify which features are not shared between the years."
   ]
  },
  {
   "cell_type": "code",
   "execution_count": 56,
   "metadata": {},
   "outputs": [
    {
     "data": {
      "text/plain": [
       "109"
      ]
     },
     "execution_count": 56,
     "metadata": {},
     "output_type": "execute_result"
    }
   ],
   "source": [
    "cols9, cols10, cols11 = list(data09.columns), list(data10.columns), list(data11.columns)\n",
    "cols910 = [x for x in cols9 if x in cols10]\n",
    "shared_cols = [x for x in cols910 if x in cols11]\n",
    "len(shared_cols)"
   ]
  },
  {
   "cell_type": "code",
   "execution_count": 36,
   "metadata": {},
   "outputs": [
    {
     "data": {
      "text/plain": [
       "204"
      ]
     },
     "execution_count": 36,
     "metadata": {},
     "output_type": "execute_result"
    }
   ],
   "source": [
    "not_cols910 = [x for x in cols9 if x not in cols10]\n",
    "not_cols109 = [x for x in cols10 if x not in cols9]\n",
    "not_cols_comb910 = not_cols910 + not_cols109\n",
    "\n",
    "not_cols_91011 = [x for x in not_cols_comb910 if x not in cols11]\n",
    "not_cols_11910 = [x for x in cols11 if x not in not_cols_comb910]\n",
    "\n",
    "not_cols = not_cols_91011 + not_cols_11910\n",
    "len(not_cols)"
   ]
  },
  {
   "cell_type": "code",
   "execution_count": 45,
   "metadata": {},
   "outputs": [
    {
     "data": {
      "text/plain": [
       "182"
      ]
     },
     "execution_count": 45,
     "metadata": {},
     "output_type": "execute_result"
    }
   ],
   "source": [
    "cols1011 = [x for x in cols10 if x in cols11]\n",
    "len(cols1011)"
   ]
  },
  {
   "cell_type": "markdown",
   "metadata": {},
   "source": [
    "Here we can see that there are 109 shared columns between all three years and 204 columns that don't share the same name. However, given the similarity in size of years 10 and 11, we assumed that they might have greater similarity. It turns out they did, with 182 columns sharing the exact same name. Therefore, we decided to merge these two years and ignore the data from year 9. \n",
    "\n",
    "Before we merged the sets, we had to adjust the names of our target variable in order to make that a shared element. This would then bring a total of 183 shared columns."
   ]
  },
  {
   "cell_type": "code",
   "execution_count": 52,
   "metadata": {},
   "outputs": [],
   "source": [
    "data10['target_willing'] = data10.iloc[:, -3]\n",
    "data11['target_willing'] = data10.iloc[:, -3]"
   ]
  },
  {
   "cell_type": "markdown",
   "metadata": {},
   "source": [
    "The final piece before we merge the datasets is to add a column indicating the year in case that ends up proving relevant in the analysis."
   ]
  },
  {
   "cell_type": "code",
   "execution_count": 53,
   "metadata": {},
   "outputs": [],
   "source": [
    "data10['year'] = 10\n",
    "data11['year'] = 11"
   ]
  },
  {
   "cell_type": "code",
   "execution_count": 58,
   "metadata": {},
   "outputs": [],
   "source": [
    "merge_cols = [x for x in cols10 if x in cols11]\n",
    "\n",
    "merge10 = data10[merge_cols]\n",
    "merge11 = data11[merge_cols]\n",
    "\n",
    "df = pd.concat([merge10, merge11])"
   ]
  },
  {
   "cell_type": "code",
   "execution_count": 60,
   "metadata": {},
   "outputs": [
    {
     "data": {
      "text/html": [
       "<div>\n",
       "<style scoped>\n",
       "    .dataframe tbody tr th:only-of-type {\n",
       "        vertical-align: middle;\n",
       "    }\n",
       "\n",
       "    .dataframe tbody tr th {\n",
       "        vertical-align: top;\n",
       "    }\n",
       "\n",
       "    .dataframe thead th {\n",
       "        text-align: right;\n",
       "    }\n",
       "</style>\n",
       "<table border=\"1\" class=\"dataframe\">\n",
       "  <thead>\n",
       "    <tr style=\"text-align: right;\">\n",
       "      <th></th>\n",
       "      <th>record - Record number</th>\n",
       "      <th>Q1r1 - To begin, what is your age?</th>\n",
       "      <th>Q4 - What is your gender?</th>\n",
       "      <th>age - you are...</th>\n",
       "      <th>Q2 - In which state do you currently reside?</th>\n",
       "      <th>region - Region</th>\n",
       "      <th>QNEW3 - What is your employment status?</th>\n",
       "      <th>Q5 - Which category best describes your ethnicity?</th>\n",
       "      <th>QNEW1 - Do you have children living in your home (excluding yourself if you are under 18)?</th>\n",
       "      <th>QNEW2 - How old are the children in your home?-0-4 years</th>\n",
       "      <th>...</th>\n",
       "      <th>Q39rNEW1 - I would rather pay for sports information online in exchange for not being exposed to advertisements. - Using the scale below, please indicate how much you agree or disagree with the following statements. If the question does not apply to you, c</th>\n",
       "      <th>Q39rNEW2 - I would rather pay for games online in exchange for not being exposed to advertisements. - Using the scale below, please indicate how much you agree or disagree with the following statements. If the question does not apply to you, choose \"N/A.\"</th>\n",
       "      <th>Q39rNEW3 - I would rather pay for music online in exchange for not being exposed to advertisements. - Using the scale below, please indicate how much you agree or disagree with the following statements. If the question does not apply to you, choose \"N/A.\"</th>\n",
       "      <th>Q39rNEW4 - I would rather pay for TV shows online in exchange for not being exposed to advertisements. - Using the scale below, please indicate how much you agree or disagree with the following statements. If the question does not apply to you, choose \"N/A</th>\n",
       "      <th>Q39rNEW5 - I would rather pay for movies online in exchange for not being exposed to advertisements. - Using the scale below, please indicate how much you agree or disagree with the following statements. If the question does not apply to you, choose \"N/A.\"</th>\n",
       "      <th>Q39r2 - I would be willing to provide more personal information online if that meant I could receive advertising more targeted to my needs and interests. - Using the scale below, please indicate how much you agree or disagree with the following statements.</th>\n",
       "      <th>Q39r3 - By providing more personal information online, I am worried about becoming a victim of identity theft. - Using the scale below, please indicate how much you agree or disagree with the following statements. If the question does not apply to you, cho</th>\n",
       "      <th>Q89 - Which of the following is your most frequently used mechanism to get news?</th>\n",
       "      <th>target_willing</th>\n",
       "      <th>year</th>\n",
       "    </tr>\n",
       "  </thead>\n",
       "  <tbody>\n",
       "    <tr>\n",
       "      <th>0</th>\n",
       "      <td>7</td>\n",
       "      <td>31</td>\n",
       "      <td>Female</td>\n",
       "      <td>30-46</td>\n",
       "      <td>Illinois</td>\n",
       "      <td>Midwest</td>\n",
       "      <td>Unemployed</td>\n",
       "      <td>White or Caucasian (Non-Hispanic)</td>\n",
       "      <td>Yes</td>\n",
       "      <td>No</td>\n",
       "      <td>...</td>\n",
       "      <td>Agree somewhat</td>\n",
       "      <td>Agree strongly</td>\n",
       "      <td>Agree strongly</td>\n",
       "      <td>Agree somewhat</td>\n",
       "      <td>Agree strongly</td>\n",
       "      <td>Agree somewhat</td>\n",
       "      <td>Agree somewhat</td>\n",
       "      <td>Social media sites</td>\n",
       "      <td>Agree somewhat</td>\n",
       "      <td>10</td>\n",
       "    </tr>\n",
       "    <tr>\n",
       "      <th>1</th>\n",
       "      <td>4</td>\n",
       "      <td>30</td>\n",
       "      <td>Female</td>\n",
       "      <td>30-46</td>\n",
       "      <td>Arkansas</td>\n",
       "      <td>South</td>\n",
       "      <td>Unemployed</td>\n",
       "      <td>White or Caucasian (Non-Hispanic)</td>\n",
       "      <td>Yes</td>\n",
       "      <td>Yes</td>\n",
       "      <td>...</td>\n",
       "      <td>Disagree strongly</td>\n",
       "      <td>Disagree strongly</td>\n",
       "      <td>Disagree strongly</td>\n",
       "      <td>Disagree somewhat</td>\n",
       "      <td>Disagree strongly</td>\n",
       "      <td>Disagree somewhat</td>\n",
       "      <td>Agree somewhat</td>\n",
       "      <td>Social media sites</td>\n",
       "      <td>Agree strongly</td>\n",
       "      <td>10</td>\n",
       "    </tr>\n",
       "    <tr>\n",
       "      <th>2</th>\n",
       "      <td>8</td>\n",
       "      <td>61</td>\n",
       "      <td>Male</td>\n",
       "      <td>47-65</td>\n",
       "      <td>Alabama</td>\n",
       "      <td>South</td>\n",
       "      <td>Retired</td>\n",
       "      <td>White or Caucasian (Non-Hispanic)</td>\n",
       "      <td>No</td>\n",
       "      <td>NaN</td>\n",
       "      <td>...</td>\n",
       "      <td>Disagree strongly</td>\n",
       "      <td>Disagree strongly</td>\n",
       "      <td>Disagree strongly</td>\n",
       "      <td>Disagree strongly</td>\n",
       "      <td>Disagree strongly</td>\n",
       "      <td>Disagree strongly</td>\n",
       "      <td>Agree strongly</td>\n",
       "      <td>Television news stations</td>\n",
       "      <td>Agree strongly</td>\n",
       "      <td>10</td>\n",
       "    </tr>\n",
       "    <tr>\n",
       "      <th>3</th>\n",
       "      <td>3</td>\n",
       "      <td>68</td>\n",
       "      <td>Female</td>\n",
       "      <td>66 or older</td>\n",
       "      <td>New York</td>\n",
       "      <td>Northeast</td>\n",
       "      <td>Retired</td>\n",
       "      <td>White or Caucasian (Non-Hispanic)</td>\n",
       "      <td>No</td>\n",
       "      <td>NaN</td>\n",
       "      <td>...</td>\n",
       "      <td>N/A; I do not have a basis to answer</td>\n",
       "      <td>N/A; I do not have a basis to answer</td>\n",
       "      <td>N/A; I do not have a basis to answer</td>\n",
       "      <td>Disagree strongly</td>\n",
       "      <td>Disagree somewhat</td>\n",
       "      <td>Disagree strongly</td>\n",
       "      <td>Agree strongly</td>\n",
       "      <td>Television news stations</td>\n",
       "      <td>Agree somewhat</td>\n",
       "      <td>10</td>\n",
       "    </tr>\n",
       "    <tr>\n",
       "      <th>4</th>\n",
       "      <td>15</td>\n",
       "      <td>50</td>\n",
       "      <td>Female</td>\n",
       "      <td>47-65</td>\n",
       "      <td>Iowa</td>\n",
       "      <td>Midwest</td>\n",
       "      <td>Employed full-time or part-time</td>\n",
       "      <td>White or Caucasian (Non-Hispanic)</td>\n",
       "      <td>No</td>\n",
       "      <td>NaN</td>\n",
       "      <td>...</td>\n",
       "      <td>Disagree strongly</td>\n",
       "      <td>Disagree strongly</td>\n",
       "      <td>Disagree strongly</td>\n",
       "      <td>Disagree strongly</td>\n",
       "      <td>Disagree strongly</td>\n",
       "      <td>Disagree strongly</td>\n",
       "      <td>Agree somewhat</td>\n",
       "      <td>Television news stations</td>\n",
       "      <td>Agree somewhat</td>\n",
       "      <td>10</td>\n",
       "    </tr>\n",
       "  </tbody>\n",
       "</table>\n",
       "<p>5 rows × 184 columns</p>\n",
       "</div>"
      ],
      "text/plain": [
       "   record - Record number  Q1r1 - To begin, what is your age?  \\\n",
       "0                       7                                  31   \n",
       "1                       4                                  30   \n",
       "2                       8                                  61   \n",
       "3                       3                                  68   \n",
       "4                      15                                  50   \n",
       "\n",
       "  Q4 - What is your gender? age - you are...  \\\n",
       "0                    Female            30-46   \n",
       "1                    Female            30-46   \n",
       "2                      Male            47-65   \n",
       "3                    Female      66 or older   \n",
       "4                    Female            47-65   \n",
       "\n",
       "  Q2 - In which state do you currently reside? region - Region  \\\n",
       "0                                     Illinois         Midwest   \n",
       "1                                     Arkansas           South   \n",
       "2                                      Alabama           South   \n",
       "3                                     New York       Northeast   \n",
       "4                                         Iowa         Midwest   \n",
       "\n",
       "  QNEW3 - What is your employment status?  \\\n",
       "0                              Unemployed   \n",
       "1                              Unemployed   \n",
       "2                                 Retired   \n",
       "3                                 Retired   \n",
       "4         Employed full-time or part-time   \n",
       "\n",
       "  Q5 - Which category best describes your ethnicity?  \\\n",
       "0                  White or Caucasian (Non-Hispanic)   \n",
       "1                  White or Caucasian (Non-Hispanic)   \n",
       "2                  White or Caucasian (Non-Hispanic)   \n",
       "3                  White or Caucasian (Non-Hispanic)   \n",
       "4                  White or Caucasian (Non-Hispanic)   \n",
       "\n",
       "  QNEW1 - Do you have children living in your home (excluding yourself if you are under 18)?  \\\n",
       "0                                                Yes                                           \n",
       "1                                                Yes                                           \n",
       "2                                                 No                                           \n",
       "3                                                 No                                           \n",
       "4                                                 No                                           \n",
       "\n",
       "  QNEW2 - How old are the children in your home?-0-4 years  ...  \\\n",
       "0                                                 No        ...   \n",
       "1                                                Yes        ...   \n",
       "2                                                NaN        ...   \n",
       "3                                                NaN        ...   \n",
       "4                                                NaN        ...   \n",
       "\n",
       "  Q39rNEW1 - I would rather pay for sports information online in exchange for not being exposed to advertisements. - Using the scale below, please indicate how much you agree or disagree with the following statements. If the question does not apply to you, c  \\\n",
       "0                                     Agree somewhat                                                                                                                                                                                                                 \n",
       "1                                  Disagree strongly                                                                                                                                                                                                                 \n",
       "2                                  Disagree strongly                                                                                                                                                                                                                 \n",
       "3               N/A; I do not have a basis to answer                                                                                                                                                                                                                 \n",
       "4                                  Disagree strongly                                                                                                                                                                                                                 \n",
       "\n",
       "  Q39rNEW2 - I would rather pay for games online in exchange for not being exposed to advertisements. - Using the scale below, please indicate how much you agree or disagree with the following statements. If the question does not apply to you, choose \"N/A.\"  \\\n",
       "0                                     Agree strongly                                                                                                                                                                                                                \n",
       "1                                  Disagree strongly                                                                                                                                                                                                                \n",
       "2                                  Disagree strongly                                                                                                                                                                                                                \n",
       "3               N/A; I do not have a basis to answer                                                                                                                                                                                                                \n",
       "4                                  Disagree strongly                                                                                                                                                                                                                \n",
       "\n",
       "  Q39rNEW3 - I would rather pay for music online in exchange for not being exposed to advertisements. - Using the scale below, please indicate how much you agree or disagree with the following statements. If the question does not apply to you, choose \"N/A.\"  \\\n",
       "0                                     Agree strongly                                                                                                                                                                                                                \n",
       "1                                  Disagree strongly                                                                                                                                                                                                                \n",
       "2                                  Disagree strongly                                                                                                                                                                                                                \n",
       "3               N/A; I do not have a basis to answer                                                                                                                                                                                                                \n",
       "4                                  Disagree strongly                                                                                                                                                                                                                \n",
       "\n",
       "  Q39rNEW4 - I would rather pay for TV shows online in exchange for not being exposed to advertisements. - Using the scale below, please indicate how much you agree or disagree with the following statements. If the question does not apply to you, choose \"N/A  \\\n",
       "0                                     Agree somewhat                                                                                                                                                                                                                 \n",
       "1                                  Disagree somewhat                                                                                                                                                                                                                 \n",
       "2                                  Disagree strongly                                                                                                                                                                                                                 \n",
       "3                                  Disagree strongly                                                                                                                                                                                                                 \n",
       "4                                  Disagree strongly                                                                                                                                                                                                                 \n",
       "\n",
       "  Q39rNEW5 - I would rather pay for movies online in exchange for not being exposed to advertisements. - Using the scale below, please indicate how much you agree or disagree with the following statements. If the question does not apply to you, choose \"N/A.\"  \\\n",
       "0                                     Agree strongly                                                                                                                                                                                                                 \n",
       "1                                  Disagree strongly                                                                                                                                                                                                                 \n",
       "2                                  Disagree strongly                                                                                                                                                                                                                 \n",
       "3                                  Disagree somewhat                                                                                                                                                                                                                 \n",
       "4                                  Disagree strongly                                                                                                                                                                                                                 \n",
       "\n",
       "  Q39r2 - I would be willing to provide more personal information online if that meant I could receive advertising more targeted to my needs and interests. - Using the scale below, please indicate how much you agree or disagree with the following statements.  \\\n",
       "0                                     Agree somewhat                                                                                                                                                                                                                 \n",
       "1                                  Disagree somewhat                                                                                                                                                                                                                 \n",
       "2                                  Disagree strongly                                                                                                                                                                                                                 \n",
       "3                                  Disagree strongly                                                                                                                                                                                                                 \n",
       "4                                  Disagree strongly                                                                                                                                                                                                                 \n",
       "\n",
       "  Q39r3 - By providing more personal information online, I am worried about becoming a victim of identity theft. - Using the scale below, please indicate how much you agree or disagree with the following statements. If the question does not apply to you, cho  \\\n",
       "0                                     Agree somewhat                                                                                                                                                                                                                 \n",
       "1                                     Agree somewhat                                                                                                                                                                                                                 \n",
       "2                                     Agree strongly                                                                                                                                                                                                                 \n",
       "3                                     Agree strongly                                                                                                                                                                                                                 \n",
       "4                                     Agree somewhat                                                                                                                                                                                                                 \n",
       "\n",
       "  Q89 - Which of the following is your most frequently used mechanism to get news?  \\\n",
       "0                                 Social media sites                                 \n",
       "1                                 Social media sites                                 \n",
       "2                           Television news stations                                 \n",
       "3                           Television news stations                                 \n",
       "4                           Television news stations                                 \n",
       "\n",
       "   target_willing year  \n",
       "0  Agree somewhat   10  \n",
       "1  Agree strongly   10  \n",
       "2  Agree strongly   10  \n",
       "3  Agree somewhat   10  \n",
       "4  Agree somewhat   10  \n",
       "\n",
       "[5 rows x 184 columns]"
      ]
     },
     "execution_count": 60,
     "metadata": {},
     "output_type": "execute_result"
    }
   ],
   "source": [
    "df.head()"
   ]
  },
  {
   "cell_type": "code",
   "execution_count": 59,
   "metadata": {},
   "outputs": [
    {
     "data": {
      "text/plain": [
       "(4336, 184)"
      ]
     },
     "execution_count": 59,
     "metadata": {},
     "output_type": "execute_result"
    }
   ],
   "source": [
    "df.shape"
   ]
  }
 ],
 "metadata": {
  "kernelspec": {
   "display_name": "Python 3",
   "language": "python",
   "name": "python3"
  },
  "language_info": {
   "codemirror_mode": {
    "name": "ipython",
    "version": 3
   },
   "file_extension": ".py",
   "mimetype": "text/x-python",
   "name": "python",
   "nbconvert_exporter": "python",
   "pygments_lexer": "ipython3",
   "version": "3.8.3"
  }
 },
 "nbformat": 4,
 "nbformat_minor": 4
}
