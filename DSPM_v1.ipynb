{
 "cells": [
  {
   "cell_type": "markdown",
   "metadata": {},
   "source": [
    "# Data Science for Product Managers Final Project"
   ]
  },
  {
   "cell_type": "markdown",
   "metadata": {},
   "source": [
    "### Data Ingestion and Preparation"
   ]
  },
  {
   "cell_type": "code",
   "execution_count": 1,
   "metadata": {},
   "outputs": [],
   "source": [
    "import numpy as np\n",
    "import pandas as pd\n",
    "import math\n",
    "import matplotlib.pyplot as plt"
   ]
  },
  {
   "cell_type": "code",
   "execution_count": 2,
   "metadata": {},
   "outputs": [],
   "source": [
    "#data09 = pd.read_excel('DDS9_Data_Extract_with_labels.xlsx', encoding='latin1')\n",
    "#data10 = pd.read_excel('DDS10_Data_Extract_with_labels.xlsx', encoding='latin1')\n",
    "#data11 = pd.read_excel('DDS11_Data_Extract_with_labels.xlsx', encoding='latin1')\n",
    "\n",
    "data09 = pd.read_excel('DDS9_Data_Extract_with_labels.xlsx')\n",
    "data10 = pd.read_excel('DDS10_Data_Extract_with_labels.xlsx')\n",
    "data11 = pd.read_excel('DDS11_Data_Extract_with_labels.xlsx')"
   ]
  },
  {
   "cell_type": "code",
   "execution_count": 3,
   "metadata": {},
   "outputs": [
    {
     "name": "stdout",
     "output_type": "stream",
     "text": [
      "(2076, 191)\n",
      "(2205, 197)\n",
      "(2131, 198)\n"
     ]
    }
   ],
   "source": [
    "print(data09.shape)\n",
    "print(data10.shape)\n",
    "print(data11.shape)"
   ]
  },
  {
   "cell_type": "markdown",
   "metadata": {},
   "source": [
    "By printing the shape of the three year's worth of data we can see two important pieces of take-aways:\n",
    "1. Each of the years has a similar number of observations. This is good as it means we won't be overreliant on one year's data which may have undue influence on the results.\n",
    "2. We have a different number of features for each year. Having 1/3 or more of observations automatically not having any data for one of the features is a problem.\n",
    "\n",
    "In order to account for 2, the first step will be to identify which features are not shared between the years."
   ]
  },
  {
   "cell_type": "code",
   "execution_count": 4,
   "metadata": {},
   "outputs": [
    {
     "data": {
      "text/plain": [
       "109"
      ]
     },
     "execution_count": 4,
     "metadata": {},
     "output_type": "execute_result"
    }
   ],
   "source": [
    "# shared columns in all 3 years\n",
    "\n",
    "cols9, cols10, cols11 = list(data09.columns), list(data10.columns), list(data11.columns)\n",
    "cols910 = [x for x in cols9 if x in cols10]\n",
    "shared_cols = [x for x in cols910 if x in cols11]\n",
    "len(shared_cols)"
   ]
  },
  {
   "cell_type": "code",
   "execution_count": 5,
   "metadata": {},
   "outputs": [
    {
     "data": {
      "text/plain": [
       "204"
      ]
     },
     "execution_count": 5,
     "metadata": {},
     "output_type": "execute_result"
    }
   ],
   "source": [
    "# non-shared columns in all 3 years\n",
    "\n",
    "not_cols910 = [x for x in cols9 if x not in cols10]\n",
    "not_cols109 = [x for x in cols10 if x not in cols9]\n",
    "not_cols_comb910 = not_cols910 + not_cols109\n",
    "\n",
    "not_cols_91011 = [x for x in not_cols_comb910 if x not in cols11]\n",
    "not_cols_11910 = [x for x in cols11 if x not in not_cols_comb910]\n",
    "\n",
    "not_cols = not_cols_91011 + not_cols_11910\n",
    "len(not_cols)"
   ]
  },
  {
   "cell_type": "code",
   "execution_count": 6,
   "metadata": {},
   "outputs": [
    {
     "data": {
      "text/plain": [
       "182"
      ]
     },
     "execution_count": 6,
     "metadata": {},
     "output_type": "execute_result"
    }
   ],
   "source": [
    "# shared columns in 2010 and 2011 data\n",
    "\n",
    "cols1011 = [x for x in cols10 if x in cols11]\n",
    "len(cols1011)"
   ]
  },
  {
   "cell_type": "markdown",
   "metadata": {},
   "source": [
    "Here we can see that there are 109 shared columns between all three years and 204 columns that don't share the same name. However, given the similarity in size of years 10 and 11, we assumed that they might have greater similarity. It turns out they did, with 182 columns sharing the exact same name. Therefore, we decided to merge these two years and ignore the data from year 9. \n",
    "\n",
    "Before we merged the sets, we had to adjust the names of our target variable in order to make that a shared element. This would then bring a total of 183 shared columns. The target variable of analysis is: \"I would be willing to view advertising with my streaming video programming if it significantly reduced the cost of the subscription. (e.g., reduced subscription cost by 25%)\""
   ]
  },
  {
   "cell_type": "code",
   "execution_count": 7,
   "metadata": {},
   "outputs": [],
   "source": [
    "data10['target_willing'] = data10.iloc[:, -3]\n",
    "data11['target_willing'] = data11.iloc[:, -3]"
   ]
  },
  {
   "cell_type": "markdown",
   "metadata": {},
   "source": [
    "The final piece before we merge the datasets is to add a column indicating the year in case that ends up proving relevant in the analysis."
   ]
  },
  {
   "cell_type": "code",
   "execution_count": 8,
   "metadata": {},
   "outputs": [],
   "source": [
    "data10['year'] = 10\n",
    "data11['year'] = 11"
   ]
  },
  {
   "cell_type": "code",
   "execution_count": 9,
   "metadata": {},
   "outputs": [],
   "source": [
    "merge_cols = [x for x in data10.columns if x in data11.columns]\n",
    "\n",
    "merge10 = data10[merge_cols]\n",
    "merge11 = data11[merge_cols]\n",
    "\n",
    "df = pd.concat([merge10, merge11])"
   ]
  },
  {
   "cell_type": "code",
   "execution_count": 10,
   "metadata": {},
   "outputs": [
    {
     "data": {
      "text/html": [
       "<div>\n",
       "<style scoped>\n",
       "    .dataframe tbody tr th:only-of-type {\n",
       "        vertical-align: middle;\n",
       "    }\n",
       "\n",
       "    .dataframe tbody tr th {\n",
       "        vertical-align: top;\n",
       "    }\n",
       "\n",
       "    .dataframe thead th {\n",
       "        text-align: right;\n",
       "    }\n",
       "</style>\n",
       "<table border=\"1\" class=\"dataframe\">\n",
       "  <thead>\n",
       "    <tr style=\"text-align: right;\">\n",
       "      <th></th>\n",
       "      <th>record - Record number</th>\n",
       "      <th>Q1r1 - To begin, what is your age?</th>\n",
       "      <th>Q4 - What is your gender?</th>\n",
       "      <th>age - you are...</th>\n",
       "      <th>Q2 - In which state do you currently reside?</th>\n",
       "      <th>region - Region</th>\n",
       "      <th>QNEW3 - What is your employment status?</th>\n",
       "      <th>Q5 - Which category best describes your ethnicity?</th>\n",
       "      <th>QNEW1 - Do you have children living in your home (excluding yourself if you are under 18)?</th>\n",
       "      <th>QNEW2 - How old are the children in your home?-0-4 years</th>\n",
       "      <th>...</th>\n",
       "      <th>Q39rNEW1 - I would rather pay for sports information online in exchange for not being exposed to advertisements. - Using the scale below, please indicate how much you agree or disagree with the following statements. If the question does not apply to you, c</th>\n",
       "      <th>Q39rNEW2 - I would rather pay for games online in exchange for not being exposed to advertisements. - Using the scale below, please indicate how much you agree or disagree with the following statements. If the question does not apply to you, choose \"N/A.\"</th>\n",
       "      <th>Q39rNEW3 - I would rather pay for music online in exchange for not being exposed to advertisements. - Using the scale below, please indicate how much you agree or disagree with the following statements. If the question does not apply to you, choose \"N/A.\"</th>\n",
       "      <th>Q39rNEW4 - I would rather pay for TV shows online in exchange for not being exposed to advertisements. - Using the scale below, please indicate how much you agree or disagree with the following statements. If the question does not apply to you, choose \"N/A</th>\n",
       "      <th>Q39rNEW5 - I would rather pay for movies online in exchange for not being exposed to advertisements. - Using the scale below, please indicate how much you agree or disagree with the following statements. If the question does not apply to you, choose \"N/A.\"</th>\n",
       "      <th>Q39r2 - I would be willing to provide more personal information online if that meant I could receive advertising more targeted to my needs and interests. - Using the scale below, please indicate how much you agree or disagree with the following statements.</th>\n",
       "      <th>Q39r3 - By providing more personal information online, I am worried about becoming a victim of identity theft. - Using the scale below, please indicate how much you agree or disagree with the following statements. If the question does not apply to you, cho</th>\n",
       "      <th>Q89 - Which of the following is your most frequently used mechanism to get news?</th>\n",
       "      <th>target_willing</th>\n",
       "      <th>year</th>\n",
       "    </tr>\n",
       "  </thead>\n",
       "  <tbody>\n",
       "    <tr>\n",
       "      <th>0</th>\n",
       "      <td>7</td>\n",
       "      <td>31</td>\n",
       "      <td>Female</td>\n",
       "      <td>30-46</td>\n",
       "      <td>Illinois</td>\n",
       "      <td>Midwest</td>\n",
       "      <td>Unemployed</td>\n",
       "      <td>White or Caucasian (Non-Hispanic)</td>\n",
       "      <td>Yes</td>\n",
       "      <td>No</td>\n",
       "      <td>...</td>\n",
       "      <td>Agree somewhat</td>\n",
       "      <td>Agree strongly</td>\n",
       "      <td>Agree strongly</td>\n",
       "      <td>Agree somewhat</td>\n",
       "      <td>Agree strongly</td>\n",
       "      <td>Agree somewhat</td>\n",
       "      <td>Agree somewhat</td>\n",
       "      <td>Social media sites</td>\n",
       "      <td>Agree somewhat</td>\n",
       "      <td>10</td>\n",
       "    </tr>\n",
       "    <tr>\n",
       "      <th>1</th>\n",
       "      <td>4</td>\n",
       "      <td>30</td>\n",
       "      <td>Female</td>\n",
       "      <td>30-46</td>\n",
       "      <td>Arkansas</td>\n",
       "      <td>South</td>\n",
       "      <td>Unemployed</td>\n",
       "      <td>White or Caucasian (Non-Hispanic)</td>\n",
       "      <td>Yes</td>\n",
       "      <td>Yes</td>\n",
       "      <td>...</td>\n",
       "      <td>Disagree strongly</td>\n",
       "      <td>Disagree strongly</td>\n",
       "      <td>Disagree strongly</td>\n",
       "      <td>Disagree somewhat</td>\n",
       "      <td>Disagree strongly</td>\n",
       "      <td>Disagree somewhat</td>\n",
       "      <td>Agree somewhat</td>\n",
       "      <td>Social media sites</td>\n",
       "      <td>Agree strongly</td>\n",
       "      <td>10</td>\n",
       "    </tr>\n",
       "    <tr>\n",
       "      <th>2</th>\n",
       "      <td>8</td>\n",
       "      <td>61</td>\n",
       "      <td>Male</td>\n",
       "      <td>47-65</td>\n",
       "      <td>Alabama</td>\n",
       "      <td>South</td>\n",
       "      <td>Retired</td>\n",
       "      <td>White or Caucasian (Non-Hispanic)</td>\n",
       "      <td>No</td>\n",
       "      <td>NaN</td>\n",
       "      <td>...</td>\n",
       "      <td>Disagree strongly</td>\n",
       "      <td>Disagree strongly</td>\n",
       "      <td>Disagree strongly</td>\n",
       "      <td>Disagree strongly</td>\n",
       "      <td>Disagree strongly</td>\n",
       "      <td>Disagree strongly</td>\n",
       "      <td>Agree strongly</td>\n",
       "      <td>Television news stations</td>\n",
       "      <td>Agree strongly</td>\n",
       "      <td>10</td>\n",
       "    </tr>\n",
       "    <tr>\n",
       "      <th>3</th>\n",
       "      <td>3</td>\n",
       "      <td>68</td>\n",
       "      <td>Female</td>\n",
       "      <td>66 or older</td>\n",
       "      <td>New York</td>\n",
       "      <td>Northeast</td>\n",
       "      <td>Retired</td>\n",
       "      <td>White or Caucasian (Non-Hispanic)</td>\n",
       "      <td>No</td>\n",
       "      <td>NaN</td>\n",
       "      <td>...</td>\n",
       "      <td>N/A; I do not have a basis to answer</td>\n",
       "      <td>N/A; I do not have a basis to answer</td>\n",
       "      <td>N/A; I do not have a basis to answer</td>\n",
       "      <td>Disagree strongly</td>\n",
       "      <td>Disagree somewhat</td>\n",
       "      <td>Disagree strongly</td>\n",
       "      <td>Agree strongly</td>\n",
       "      <td>Television news stations</td>\n",
       "      <td>Agree somewhat</td>\n",
       "      <td>10</td>\n",
       "    </tr>\n",
       "    <tr>\n",
       "      <th>4</th>\n",
       "      <td>15</td>\n",
       "      <td>50</td>\n",
       "      <td>Female</td>\n",
       "      <td>47-65</td>\n",
       "      <td>Iowa</td>\n",
       "      <td>Midwest</td>\n",
       "      <td>Employed full-time or part-time</td>\n",
       "      <td>White or Caucasian (Non-Hispanic)</td>\n",
       "      <td>No</td>\n",
       "      <td>NaN</td>\n",
       "      <td>...</td>\n",
       "      <td>Disagree strongly</td>\n",
       "      <td>Disagree strongly</td>\n",
       "      <td>Disagree strongly</td>\n",
       "      <td>Disagree strongly</td>\n",
       "      <td>Disagree strongly</td>\n",
       "      <td>Disagree strongly</td>\n",
       "      <td>Agree somewhat</td>\n",
       "      <td>Television news stations</td>\n",
       "      <td>Agree somewhat</td>\n",
       "      <td>10</td>\n",
       "    </tr>\n",
       "  </tbody>\n",
       "</table>\n",
       "<p>5 rows × 184 columns</p>\n",
       "</div>"
      ],
      "text/plain": [
       "   record - Record number  Q1r1 - To begin, what is your age?  \\\n",
       "0                       7                                  31   \n",
       "1                       4                                  30   \n",
       "2                       8                                  61   \n",
       "3                       3                                  68   \n",
       "4                      15                                  50   \n",
       "\n",
       "  Q4 - What is your gender? age - you are...  \\\n",
       "0                    Female            30-46   \n",
       "1                    Female            30-46   \n",
       "2                      Male            47-65   \n",
       "3                    Female      66 or older   \n",
       "4                    Female            47-65   \n",
       "\n",
       "  Q2 - In which state do you currently reside? region - Region  \\\n",
       "0                                     Illinois         Midwest   \n",
       "1                                     Arkansas           South   \n",
       "2                                      Alabama           South   \n",
       "3                                     New York       Northeast   \n",
       "4                                         Iowa         Midwest   \n",
       "\n",
       "  QNEW3 - What is your employment status?  \\\n",
       "0                              Unemployed   \n",
       "1                              Unemployed   \n",
       "2                                 Retired   \n",
       "3                                 Retired   \n",
       "4         Employed full-time or part-time   \n",
       "\n",
       "  Q5 - Which category best describes your ethnicity?  \\\n",
       "0                  White or Caucasian (Non-Hispanic)   \n",
       "1                  White or Caucasian (Non-Hispanic)   \n",
       "2                  White or Caucasian (Non-Hispanic)   \n",
       "3                  White or Caucasian (Non-Hispanic)   \n",
       "4                  White or Caucasian (Non-Hispanic)   \n",
       "\n",
       "  QNEW1 - Do you have children living in your home (excluding yourself if you are under 18)?  \\\n",
       "0                                                Yes                                           \n",
       "1                                                Yes                                           \n",
       "2                                                 No                                           \n",
       "3                                                 No                                           \n",
       "4                                                 No                                           \n",
       "\n",
       "  QNEW2 - How old are the children in your home?-0-4 years  ...  \\\n",
       "0                                                 No        ...   \n",
       "1                                                Yes        ...   \n",
       "2                                                NaN        ...   \n",
       "3                                                NaN        ...   \n",
       "4                                                NaN        ...   \n",
       "\n",
       "  Q39rNEW1 - I would rather pay for sports information online in exchange for not being exposed to advertisements. - Using the scale below, please indicate how much you agree or disagree with the following statements. If the question does not apply to you, c  \\\n",
       "0                                     Agree somewhat                                                                                                                                                                                                                 \n",
       "1                                  Disagree strongly                                                                                                                                                                                                                 \n",
       "2                                  Disagree strongly                                                                                                                                                                                                                 \n",
       "3               N/A; I do not have a basis to answer                                                                                                                                                                                                                 \n",
       "4                                  Disagree strongly                                                                                                                                                                                                                 \n",
       "\n",
       "  Q39rNEW2 - I would rather pay for games online in exchange for not being exposed to advertisements. - Using the scale below, please indicate how much you agree or disagree with the following statements. If the question does not apply to you, choose \"N/A.\"  \\\n",
       "0                                     Agree strongly                                                                                                                                                                                                                \n",
       "1                                  Disagree strongly                                                                                                                                                                                                                \n",
       "2                                  Disagree strongly                                                                                                                                                                                                                \n",
       "3               N/A; I do not have a basis to answer                                                                                                                                                                                                                \n",
       "4                                  Disagree strongly                                                                                                                                                                                                                \n",
       "\n",
       "  Q39rNEW3 - I would rather pay for music online in exchange for not being exposed to advertisements. - Using the scale below, please indicate how much you agree or disagree with the following statements. If the question does not apply to you, choose \"N/A.\"  \\\n",
       "0                                     Agree strongly                                                                                                                                                                                                                \n",
       "1                                  Disagree strongly                                                                                                                                                                                                                \n",
       "2                                  Disagree strongly                                                                                                                                                                                                                \n",
       "3               N/A; I do not have a basis to answer                                                                                                                                                                                                                \n",
       "4                                  Disagree strongly                                                                                                                                                                                                                \n",
       "\n",
       "  Q39rNEW4 - I would rather pay for TV shows online in exchange for not being exposed to advertisements. - Using the scale below, please indicate how much you agree or disagree with the following statements. If the question does not apply to you, choose \"N/A  \\\n",
       "0                                     Agree somewhat                                                                                                                                                                                                                 \n",
       "1                                  Disagree somewhat                                                                                                                                                                                                                 \n",
       "2                                  Disagree strongly                                                                                                                                                                                                                 \n",
       "3                                  Disagree strongly                                                                                                                                                                                                                 \n",
       "4                                  Disagree strongly                                                                                                                                                                                                                 \n",
       "\n",
       "  Q39rNEW5 - I would rather pay for movies online in exchange for not being exposed to advertisements. - Using the scale below, please indicate how much you agree or disagree with the following statements. If the question does not apply to you, choose \"N/A.\"  \\\n",
       "0                                     Agree strongly                                                                                                                                                                                                                 \n",
       "1                                  Disagree strongly                                                                                                                                                                                                                 \n",
       "2                                  Disagree strongly                                                                                                                                                                                                                 \n",
       "3                                  Disagree somewhat                                                                                                                                                                                                                 \n",
       "4                                  Disagree strongly                                                                                                                                                                                                                 \n",
       "\n",
       "  Q39r2 - I would be willing to provide more personal information online if that meant I could receive advertising more targeted to my needs and interests. - Using the scale below, please indicate how much you agree or disagree with the following statements.  \\\n",
       "0                                     Agree somewhat                                                                                                                                                                                                                 \n",
       "1                                  Disagree somewhat                                                                                                                                                                                                                 \n",
       "2                                  Disagree strongly                                                                                                                                                                                                                 \n",
       "3                                  Disagree strongly                                                                                                                                                                                                                 \n",
       "4                                  Disagree strongly                                                                                                                                                                                                                 \n",
       "\n",
       "  Q39r3 - By providing more personal information online, I am worried about becoming a victim of identity theft. - Using the scale below, please indicate how much you agree or disagree with the following statements. If the question does not apply to you, cho  \\\n",
       "0                                     Agree somewhat                                                                                                                                                                                                                 \n",
       "1                                     Agree somewhat                                                                                                                                                                                                                 \n",
       "2                                     Agree strongly                                                                                                                                                                                                                 \n",
       "3                                     Agree strongly                                                                                                                                                                                                                 \n",
       "4                                     Agree somewhat                                                                                                                                                                                                                 \n",
       "\n",
       "  Q89 - Which of the following is your most frequently used mechanism to get news?  \\\n",
       "0                                 Social media sites                                 \n",
       "1                                 Social media sites                                 \n",
       "2                           Television news stations                                 \n",
       "3                           Television news stations                                 \n",
       "4                           Television news stations                                 \n",
       "\n",
       "   target_willing year  \n",
       "0  Agree somewhat   10  \n",
       "1  Agree strongly   10  \n",
       "2  Agree strongly   10  \n",
       "3  Agree somewhat   10  \n",
       "4  Agree somewhat   10  \n",
       "\n",
       "[5 rows x 184 columns]"
      ]
     },
     "execution_count": 10,
     "metadata": {},
     "output_type": "execute_result"
    }
   ],
   "source": [
    "df.head()"
   ]
  },
  {
   "cell_type": "code",
   "execution_count": 11,
   "metadata": {},
   "outputs": [
    {
     "data": {
      "text/plain": [
       "(4336, 184)"
      ]
     },
     "execution_count": 11,
     "metadata": {},
     "output_type": "execute_result"
    }
   ],
   "source": [
    "df.shape"
   ]
  },
  {
   "cell_type": "markdown",
   "metadata": {},
   "source": [
    "The next step is to rename the columns for easier processing."
   ]
  },
  {
   "cell_type": "code",
   "execution_count": 12,
   "metadata": {},
   "outputs": [],
   "source": [
    "pd.Series(df.columns).to_csv('cols.csv')"
   ]
  },
  {
   "cell_type": "code",
   "execution_count": 13,
   "metadata": {},
   "outputs": [],
   "source": [
    "colnames = pd.read_csv('columns.csv')[['Orig', 'New']]\n",
    "\n",
    "colnames = pd.Series(colnames.New.values, index = colnames.Orig).to_dict()"
   ]
  },
  {
   "cell_type": "code",
   "execution_count": 14,
   "metadata": {},
   "outputs": [],
   "source": [
    "df = df.rename(columns = colnames)"
   ]
  },
  {
   "cell_type": "code",
   "execution_count": 15,
   "metadata": {},
   "outputs": [
    {
     "data": {
      "text/html": [
       "<div>\n",
       "<style scoped>\n",
       "    .dataframe tbody tr th:only-of-type {\n",
       "        vertical-align: middle;\n",
       "    }\n",
       "\n",
       "    .dataframe tbody tr th {\n",
       "        vertical-align: top;\n",
       "    }\n",
       "\n",
       "    .dataframe thead th {\n",
       "        text-align: right;\n",
       "    }\n",
       "</style>\n",
       "<table border=\"1\" class=\"dataframe\">\n",
       "  <thead>\n",
       "    <tr style=\"text-align: right;\">\n",
       "      <th></th>\n",
       "      <th>recNo</th>\n",
       "      <th>age</th>\n",
       "      <th>gender</th>\n",
       "      <th>ageGrp</th>\n",
       "      <th>state</th>\n",
       "      <th>region</th>\n",
       "      <th>status</th>\n",
       "      <th>ethnicity</th>\n",
       "      <th>childAtHome</th>\n",
       "      <th>childAtHome_0-4</th>\n",
       "      <th>...</th>\n",
       "      <th>paySportsforNoAds</th>\n",
       "      <th>payGamesForNoAds</th>\n",
       "      <th>PayMusicForNoAds</th>\n",
       "      <th>PayTVForNoAds</th>\n",
       "      <th>PayMovieForNoAds</th>\n",
       "      <th>infoForTargetAds</th>\n",
       "      <th>infoIDTheft</th>\n",
       "      <th>getNews</th>\n",
       "      <th>target_willing</th>\n",
       "      <th>year</th>\n",
       "    </tr>\n",
       "  </thead>\n",
       "  <tbody>\n",
       "    <tr>\n",
       "      <th>0</th>\n",
       "      <td>7</td>\n",
       "      <td>31</td>\n",
       "      <td>Female</td>\n",
       "      <td>30-46</td>\n",
       "      <td>Illinois</td>\n",
       "      <td>Midwest</td>\n",
       "      <td>Unemployed</td>\n",
       "      <td>White or Caucasian (Non-Hispanic)</td>\n",
       "      <td>Yes</td>\n",
       "      <td>No</td>\n",
       "      <td>...</td>\n",
       "      <td>Agree somewhat</td>\n",
       "      <td>Agree strongly</td>\n",
       "      <td>Agree strongly</td>\n",
       "      <td>Agree somewhat</td>\n",
       "      <td>Agree strongly</td>\n",
       "      <td>Agree somewhat</td>\n",
       "      <td>Agree somewhat</td>\n",
       "      <td>Social media sites</td>\n",
       "      <td>Agree somewhat</td>\n",
       "      <td>10</td>\n",
       "    </tr>\n",
       "    <tr>\n",
       "      <th>1</th>\n",
       "      <td>4</td>\n",
       "      <td>30</td>\n",
       "      <td>Female</td>\n",
       "      <td>30-46</td>\n",
       "      <td>Arkansas</td>\n",
       "      <td>South</td>\n",
       "      <td>Unemployed</td>\n",
       "      <td>White or Caucasian (Non-Hispanic)</td>\n",
       "      <td>Yes</td>\n",
       "      <td>Yes</td>\n",
       "      <td>...</td>\n",
       "      <td>Disagree strongly</td>\n",
       "      <td>Disagree strongly</td>\n",
       "      <td>Disagree strongly</td>\n",
       "      <td>Disagree somewhat</td>\n",
       "      <td>Disagree strongly</td>\n",
       "      <td>Disagree somewhat</td>\n",
       "      <td>Agree somewhat</td>\n",
       "      <td>Social media sites</td>\n",
       "      <td>Agree strongly</td>\n",
       "      <td>10</td>\n",
       "    </tr>\n",
       "    <tr>\n",
       "      <th>2</th>\n",
       "      <td>8</td>\n",
       "      <td>61</td>\n",
       "      <td>Male</td>\n",
       "      <td>47-65</td>\n",
       "      <td>Alabama</td>\n",
       "      <td>South</td>\n",
       "      <td>Retired</td>\n",
       "      <td>White or Caucasian (Non-Hispanic)</td>\n",
       "      <td>No</td>\n",
       "      <td>NaN</td>\n",
       "      <td>...</td>\n",
       "      <td>Disagree strongly</td>\n",
       "      <td>Disagree strongly</td>\n",
       "      <td>Disagree strongly</td>\n",
       "      <td>Disagree strongly</td>\n",
       "      <td>Disagree strongly</td>\n",
       "      <td>Disagree strongly</td>\n",
       "      <td>Agree strongly</td>\n",
       "      <td>Television news stations</td>\n",
       "      <td>Agree strongly</td>\n",
       "      <td>10</td>\n",
       "    </tr>\n",
       "    <tr>\n",
       "      <th>3</th>\n",
       "      <td>3</td>\n",
       "      <td>68</td>\n",
       "      <td>Female</td>\n",
       "      <td>66 or older</td>\n",
       "      <td>New York</td>\n",
       "      <td>Northeast</td>\n",
       "      <td>Retired</td>\n",
       "      <td>White or Caucasian (Non-Hispanic)</td>\n",
       "      <td>No</td>\n",
       "      <td>NaN</td>\n",
       "      <td>...</td>\n",
       "      <td>N/A; I do not have a basis to answer</td>\n",
       "      <td>N/A; I do not have a basis to answer</td>\n",
       "      <td>N/A; I do not have a basis to answer</td>\n",
       "      <td>Disagree strongly</td>\n",
       "      <td>Disagree somewhat</td>\n",
       "      <td>Disagree strongly</td>\n",
       "      <td>Agree strongly</td>\n",
       "      <td>Television news stations</td>\n",
       "      <td>Agree somewhat</td>\n",
       "      <td>10</td>\n",
       "    </tr>\n",
       "    <tr>\n",
       "      <th>4</th>\n",
       "      <td>15</td>\n",
       "      <td>50</td>\n",
       "      <td>Female</td>\n",
       "      <td>47-65</td>\n",
       "      <td>Iowa</td>\n",
       "      <td>Midwest</td>\n",
       "      <td>Employed full-time or part-time</td>\n",
       "      <td>White or Caucasian (Non-Hispanic)</td>\n",
       "      <td>No</td>\n",
       "      <td>NaN</td>\n",
       "      <td>...</td>\n",
       "      <td>Disagree strongly</td>\n",
       "      <td>Disagree strongly</td>\n",
       "      <td>Disagree strongly</td>\n",
       "      <td>Disagree strongly</td>\n",
       "      <td>Disagree strongly</td>\n",
       "      <td>Disagree strongly</td>\n",
       "      <td>Agree somewhat</td>\n",
       "      <td>Television news stations</td>\n",
       "      <td>Agree somewhat</td>\n",
       "      <td>10</td>\n",
       "    </tr>\n",
       "  </tbody>\n",
       "</table>\n",
       "<p>5 rows × 184 columns</p>\n",
       "</div>"
      ],
      "text/plain": [
       "   recNo  age  gender       ageGrp     state     region  \\\n",
       "0      7   31  Female        30-46  Illinois    Midwest   \n",
       "1      4   30  Female        30-46  Arkansas      South   \n",
       "2      8   61    Male        47-65   Alabama      South   \n",
       "3      3   68  Female  66 or older  New York  Northeast   \n",
       "4     15   50  Female        47-65      Iowa    Midwest   \n",
       "\n",
       "                            status                          ethnicity  \\\n",
       "0                       Unemployed  White or Caucasian (Non-Hispanic)   \n",
       "1                       Unemployed  White or Caucasian (Non-Hispanic)   \n",
       "2                          Retired  White or Caucasian (Non-Hispanic)   \n",
       "3                          Retired  White or Caucasian (Non-Hispanic)   \n",
       "4  Employed full-time or part-time  White or Caucasian (Non-Hispanic)   \n",
       "\n",
       "  childAtHome childAtHome_0-4  ...                     paySportsforNoAds  \\\n",
       "0         Yes              No  ...                        Agree somewhat   \n",
       "1         Yes             Yes  ...                     Disagree strongly   \n",
       "2          No             NaN  ...                     Disagree strongly   \n",
       "3          No             NaN  ...  N/A; I do not have a basis to answer   \n",
       "4          No             NaN  ...                     Disagree strongly   \n",
       "\n",
       "                       payGamesForNoAds                      PayMusicForNoAds  \\\n",
       "0                        Agree strongly                        Agree strongly   \n",
       "1                     Disagree strongly                     Disagree strongly   \n",
       "2                     Disagree strongly                     Disagree strongly   \n",
       "3  N/A; I do not have a basis to answer  N/A; I do not have a basis to answer   \n",
       "4                     Disagree strongly                     Disagree strongly   \n",
       "\n",
       "       PayTVForNoAds   PayMovieForNoAds   infoForTargetAds     infoIDTheft  \\\n",
       "0     Agree somewhat     Agree strongly     Agree somewhat  Agree somewhat   \n",
       "1  Disagree somewhat  Disagree strongly  Disagree somewhat  Agree somewhat   \n",
       "2  Disagree strongly  Disagree strongly  Disagree strongly  Agree strongly   \n",
       "3  Disagree strongly  Disagree somewhat  Disagree strongly  Agree strongly   \n",
       "4  Disagree strongly  Disagree strongly  Disagree strongly  Agree somewhat   \n",
       "\n",
       "                    getNews  target_willing year  \n",
       "0        Social media sites  Agree somewhat   10  \n",
       "1        Social media sites  Agree strongly   10  \n",
       "2  Television news stations  Agree strongly   10  \n",
       "3  Television news stations  Agree somewhat   10  \n",
       "4  Television news stations  Agree somewhat   10  \n",
       "\n",
       "[5 rows x 184 columns]"
      ]
     },
     "execution_count": 15,
     "metadata": {},
     "output_type": "execute_result"
    }
   ],
   "source": [
    "df.head()"
   ]
  },
  {
   "cell_type": "code",
   "execution_count": 16,
   "metadata": {},
   "outputs": [],
   "source": [
    "# drop recNo column\n",
    "df = df.drop(labels = 'recNo', axis = 1)"
   ]
  },
  {
   "cell_type": "markdown",
   "metadata": {},
   "source": [
    "Next, we will examine the distribution of NAs in the current dataset."
   ]
  },
  {
   "cell_type": "code",
   "execution_count": 17,
   "metadata": {},
   "outputs": [
    {
     "data": {
      "text/plain": [
       "valueDrone             0.988699\n",
       "valuePlaceholder       0.986854\n",
       "valueVR                0.985932\n",
       "valueSmartwatch        0.974400\n",
       "valueFitnessband       0.970480\n",
       "valueE-Reader          0.969788\n",
       "valueDigTVAntenna      0.966328\n",
       "valuePortableGaming    0.965406\n",
       "subsValMagazine        0.936347\n",
       "valueDVD               0.935194\n",
       "valueDVR               0.923893\n",
       "valuePhone             0.905673\n",
       "subsValNews            0.901983\n",
       "prefMagazine           0.887915\n",
       "subsValGaming          0.870387\n",
       "prefRadio              0.841559\n",
       "prefNewspaper          0.825876\n",
       "valueRouter            0.812731\n",
       "prefLiveShow           0.809041\n",
       "valueTablet            0.807887\n",
       "subsValLandline        0.775138\n",
       "subsValMobileVoice     0.775138\n",
       "prevMovie              0.730166\n",
       "prefBook               0.725323\n",
       "prefVideoGames         0.721172\n",
       "subsValMobileData      0.697878\n",
       "valueDesktop           0.646679\n",
       "valueTV                0.645756\n",
       "prefMusic              0.624769\n",
       "childAtHome_unsure     0.614391\n",
       "childAtHome_26+        0.614391\n",
       "childAtHome_19-25      0.614391\n",
       "childAtHome_14-18      0.614391\n",
       "childAtHome_10-13      0.614391\n",
       "childAtHome_5-9        0.614391\n",
       "childAtHome_0-4        0.614391\n",
       "valueLaptop            0.497924\n",
       "valueSmartphone        0.458718\n",
       "prefSocial             0.434271\n",
       "prevTV                 0.399908\n",
       "appTickets             0.302583\n",
       "appReservations        0.302583\n",
       "appEducation           0.302583\n",
       "appPhotoVideo          0.302583\n",
       "appNA                  0.302583\n",
       "appMobilePayment       0.302583\n",
       "appMessaging           0.302583\n",
       "appBanking             0.302583\n",
       "appUnsure              0.302583\n",
       "appDating              0.302583\n",
       "dtype: float64"
      ]
     },
     "execution_count": 17,
     "metadata": {},
     "output_type": "execute_result"
    }
   ],
   "source": [
    "# top 50 columns with missing values \n",
    "\n",
    "df.isna().mean().sort_values(ascending=False)[:50]"
   ]
  },
  {
   "cell_type": "markdown",
   "metadata": {},
   "source": [
    "Details about dropped columns and Rationale behind it\n",
    "\n",
    "Post inspection of the columns, we will be removing columns that do not add value to our analysis. Following is the set of columns to be removed and rationale behind it:\n",
    "1. State column as we will be using 'Region' for our segmentation purposes \n",
    "2. Columns containing age of the children - 'How old are the children in your home?'\n",
    "These columns have been removed because these contain lot of null values , and for our segmentation analysis- the information that a family has children or not is enough and age group bifurcation is not relevant.\n",
    "3. Columns containing Ranking of how important an owned media or home equipment is for a family- \n",
    "Of the products you indicated you own, which do you value the most?\n",
    "These columns have very high proportion of null values, and the rank assignment is very subjective to individual user and not a good candidate for generalisation -  A '2' for one user doesn't mean the same as a '2' for another user\n",
    "4. Columns covering 'Don't Know' answer option - These columns do not add value to the analysis\n",
    "What types of apps do you use frequently (everyday/weekly) on your smartphone?-Don't Know\n",
    "Which of the following subscriptions does your household purchase?-Don't Know\n",
    "5. Columns containing Ranking of how valued an owned subscription is for a family-\n",
    "Of the services you indicated your household purchases, which do you value the most?\n",
    "These columns have very high proportion of null values, and the rank assignment is very subjective to individual user and not a good candidate for generalisation -  A '2' for one user doesn't mean the same as a '2' for another user \n",
    "6. Columns identifying mediums in which customers are willing to avail paid services in lieu of no advertisements-\n",
    "I would rather pay for X in exchange for not being exposed to advertisements\n",
    "These set of columns are other similar outcome variables to our target. Given that these are more output than input related, these would not add value to our analysis"
   ]
  },
  {
   "cell_type": "code",
   "execution_count": 18,
   "metadata": {},
   "outputs": [
    {
     "data": {
      "text/plain": [
       "(4336, 143)"
      ]
     },
     "execution_count": 18,
     "metadata": {},
     "output_type": "execute_result"
    }
   ],
   "source": [
    "#Dropping certain columns based on rationale described in above cell\n",
    "cols_keep = pd.read_csv('columns.csv')[['New', 'Drop']]\n",
    "cols_keep= cols_keep[cols_keep['Drop']!=1]\n",
    "col_list= list(cols_keep['New'])\n",
    "cols = [x for x in df.columns if x in col_list]\n",
    "df=df[cols]\n",
    "df.shape"
   ]
  },
  {
   "cell_type": "code",
   "execution_count": null,
   "metadata": {},
   "outputs": [],
   "source": []
  },
  {
   "cell_type": "code",
   "execution_count": null,
   "metadata": {},
   "outputs": [],
   "source": []
  }
 ],
 "metadata": {
  "kernelspec": {
   "display_name": "Python 3",
   "language": "python",
   "name": "python3"
  },
  "language_info": {
   "codemirror_mode": {
    "name": "ipython",
    "version": 3
   },
   "file_extension": ".py",
   "mimetype": "text/x-python",
   "name": "python",
   "nbconvert_exporter": "python",
   "pygments_lexer": "ipython3",
   "version": "3.9.1"
  }
 },
 "nbformat": 4,
 "nbformat_minor": 4
}
