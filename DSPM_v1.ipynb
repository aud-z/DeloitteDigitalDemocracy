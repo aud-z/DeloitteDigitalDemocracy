{
 "cells": [
  {
   "cell_type": "markdown",
   "metadata": {},
   "source": [
    "# Data Science for Product Managers Final Project"
   ]
  },
  {
   "cell_type": "markdown",
   "metadata": {},
   "source": [
    "### Data Ingestion and Preparation"
   ]
  },
  {
   "cell_type": "code",
   "execution_count": 1,
   "metadata": {},
   "outputs": [],
   "source": [
    "import numpy as np\n",
    "import pandas as pd\n",
    "import seaborn as sns\n",
    "import math\n",
    "import matplotlib.pyplot as plt"
   ]
  },
  {
   "cell_type": "code",
   "execution_count": 2,
   "metadata": {},
   "outputs": [],
   "source": [
    "#data09 = pd.read_excel('DDS9_Data_Extract_with_labels.xlsx', encoding='latin1')\n",
    "#data10 = pd.read_excel('DDS10_Data_Extract_with_labels.xlsx', encoding='latin1')\n",
    "#data11 = pd.read_excel('DDS11_Data_Extract_with_labels.xlsx', encoding='latin1')\n",
    "\n",
    "data09 = pd.read_excel('DDS9_Data_Extract_with_labels.xlsx')\n",
    "data10 = pd.read_excel('DDS10_Data_Extract_with_labels.xlsx')\n",
    "data11 = pd.read_excel('DDS11_Data_Extract_with_labels.xlsx')"
   ]
  },
  {
   "cell_type": "code",
   "execution_count": 3,
   "metadata": {},
   "outputs": [
    {
     "name": "stdout",
     "output_type": "stream",
     "text": [
      "(2076, 191)\n",
      "(2205, 197)\n",
      "(2131, 198)\n"
     ]
    }
   ],
   "source": [
    "print(data09.shape)\n",
    "print(data10.shape)\n",
    "print(data11.shape)"
   ]
  },
  {
   "cell_type": "markdown",
   "metadata": {},
   "source": [
    "By printing the shape of the three year's worth of data we can see two important pieces of take-aways:\n",
    "1. Each of the years has a similar number of observations. This is good as it means we won't be overreliant on one year's data which may have undue influence on the results.\n",
    "2. We have a different number of features for each year. Having 1/3 or more of observations automatically not having any data for one of the features is a problem.\n",
    "\n",
    "In order to account for 2, the first step will be to identify which features are not shared between the years."
   ]
  },
  {
   "cell_type": "code",
   "execution_count": 4,
   "metadata": {},
   "outputs": [
    {
     "data": {
      "text/plain": [
       "109"
      ]
     },
     "execution_count": 4,
     "metadata": {},
     "output_type": "execute_result"
    }
   ],
   "source": [
    "# shared columns in all 3 years\n",
    "\n",
    "cols9, cols10, cols11 = list(data09.columns), list(data10.columns), list(data11.columns)\n",
    "cols910 = [x for x in cols9 if x in cols10]\n",
    "shared_cols = [x for x in cols910 if x in cols11]\n",
    "len(shared_cols)"
   ]
  },
  {
   "cell_type": "code",
   "execution_count": 5,
   "metadata": {},
   "outputs": [
    {
     "data": {
      "text/plain": [
       "204"
      ]
     },
     "execution_count": 5,
     "metadata": {},
     "output_type": "execute_result"
    }
   ],
   "source": [
    "# non-shared columns in all 3 years\n",
    "\n",
    "not_cols910 = [x for x in cols9 if x not in cols10]\n",
    "not_cols109 = [x for x in cols10 if x not in cols9]\n",
    "not_cols_comb910 = not_cols910 + not_cols109\n",
    "\n",
    "not_cols_91011 = [x for x in not_cols_comb910 if x not in cols11]\n",
    "not_cols_11910 = [x for x in cols11 if x not in not_cols_comb910]\n",
    "\n",
    "not_cols = not_cols_91011 + not_cols_11910\n",
    "len(not_cols)"
   ]
  },
  {
   "cell_type": "code",
   "execution_count": 6,
   "metadata": {},
   "outputs": [
    {
     "data": {
      "text/plain": [
       "182"
      ]
     },
     "execution_count": 6,
     "metadata": {},
     "output_type": "execute_result"
    }
   ],
   "source": [
    "# shared columns in 2010 and 2011 data\n",
    "\n",
    "cols1011 = [x for x in cols10 if x in cols11]\n",
    "len(cols1011)"
   ]
  },
  {
   "cell_type": "markdown",
   "metadata": {},
   "source": [
    "Here we can see that there are 109 shared columns between all three years and 204 columns that don't share the same name. However, given the similarity in size of years 10 and 11, we assumed that they might have greater similarity. It turns out they did, with 182 columns sharing the exact same name. Therefore, we decided to merge these two years and ignore the data from year 9. \n",
    "\n",
    "Before we merged the sets, we had to adjust the names of our target variable in order to make that a shared element. This would then bring a total of 183 shared columns. The target variable of analysis is: \"I would be willing to view advertising with my streaming video programming if it significantly reduced the cost of the subscription. (e.g., reduced subscription cost by 25%)\""
   ]
  },
  {
   "cell_type": "code",
   "execution_count": 7,
   "metadata": {},
   "outputs": [],
   "source": [
    "data10['target_willing'] = data10.iloc[:, -3]\n",
    "data11['target_willing'] = data11.iloc[:, -3]"
   ]
  },
  {
   "cell_type": "markdown",
   "metadata": {},
   "source": [
    "The final piece before we merge the datasets is to add a column indicating the year in case that ends up proving relevant in the analysis."
   ]
  },
  {
   "cell_type": "code",
   "execution_count": 8,
   "metadata": {},
   "outputs": [],
   "source": [
    "data10['year'] = 10\n",
    "data11['year'] = 11"
   ]
  },
  {
   "cell_type": "code",
   "execution_count": 9,
   "metadata": {},
   "outputs": [],
   "source": [
    "merge_cols = [x for x in data10.columns if x in data11.columns]\n",
    "\n",
    "merge10 = data10[merge_cols]\n",
    "merge11 = data11[merge_cols]\n",
    "\n",
    "df = pd.concat([merge10, merge11])"
   ]
  },
  {
   "cell_type": "code",
   "execution_count": 10,
   "metadata": {},
   "outputs": [
    {
     "data": {
      "text/html": [
       "<div>\n",
       "<style scoped>\n",
       "    .dataframe tbody tr th:only-of-type {\n",
       "        vertical-align: middle;\n",
       "    }\n",
       "\n",
       "    .dataframe tbody tr th {\n",
       "        vertical-align: top;\n",
       "    }\n",
       "\n",
       "    .dataframe thead th {\n",
       "        text-align: right;\n",
       "    }\n",
       "</style>\n",
       "<table border=\"1\" class=\"dataframe\">\n",
       "  <thead>\n",
       "    <tr style=\"text-align: right;\">\n",
       "      <th></th>\n",
       "      <th>record - Record number</th>\n",
       "      <th>Q1r1 - To begin, what is your age?</th>\n",
       "      <th>Q4 - What is your gender?</th>\n",
       "      <th>age - you are...</th>\n",
       "      <th>Q2 - In which state do you currently reside?</th>\n",
       "      <th>region - Region</th>\n",
       "      <th>QNEW3 - What is your employment status?</th>\n",
       "      <th>Q5 - Which category best describes your ethnicity?</th>\n",
       "      <th>QNEW1 - Do you have children living in your home (excluding yourself if you are under 18)?</th>\n",
       "      <th>QNEW2 - How old are the children in your home?-0-4 years</th>\n",
       "      <th>...</th>\n",
       "      <th>Q39rNEW1 - I would rather pay for sports information online in exchange for not being exposed to advertisements. - Using the scale below, please indicate how much you agree or disagree with the following statements. If the question does not apply to you, c</th>\n",
       "      <th>Q39rNEW2 - I would rather pay for games online in exchange for not being exposed to advertisements. - Using the scale below, please indicate how much you agree or disagree with the following statements. If the question does not apply to you, choose \"N/A.\"</th>\n",
       "      <th>Q39rNEW3 - I would rather pay for music online in exchange for not being exposed to advertisements. - Using the scale below, please indicate how much you agree or disagree with the following statements. If the question does not apply to you, choose \"N/A.\"</th>\n",
       "      <th>Q39rNEW4 - I would rather pay for TV shows online in exchange for not being exposed to advertisements. - Using the scale below, please indicate how much you agree or disagree with the following statements. If the question does not apply to you, choose \"N/A</th>\n",
       "      <th>Q39rNEW5 - I would rather pay for movies online in exchange for not being exposed to advertisements. - Using the scale below, please indicate how much you agree or disagree with the following statements. If the question does not apply to you, choose \"N/A.\"</th>\n",
       "      <th>Q39r2 - I would be willing to provide more personal information online if that meant I could receive advertising more targeted to my needs and interests. - Using the scale below, please indicate how much you agree or disagree with the following statements.</th>\n",
       "      <th>Q39r3 - By providing more personal information online, I am worried about becoming a victim of identity theft. - Using the scale below, please indicate how much you agree or disagree with the following statements. If the question does not apply to you, cho</th>\n",
       "      <th>Q89 - Which of the following is your most frequently used mechanism to get news?</th>\n",
       "      <th>target_willing</th>\n",
       "      <th>year</th>\n",
       "    </tr>\n",
       "  </thead>\n",
       "  <tbody>\n",
       "    <tr>\n",
       "      <th>0</th>\n",
       "      <td>7</td>\n",
       "      <td>31</td>\n",
       "      <td>Female</td>\n",
       "      <td>30-46</td>\n",
       "      <td>Illinois</td>\n",
       "      <td>Midwest</td>\n",
       "      <td>Unemployed</td>\n",
       "      <td>White or Caucasian (Non-Hispanic)</td>\n",
       "      <td>Yes</td>\n",
       "      <td>No</td>\n",
       "      <td>...</td>\n",
       "      <td>Agree somewhat</td>\n",
       "      <td>Agree strongly</td>\n",
       "      <td>Agree strongly</td>\n",
       "      <td>Agree somewhat</td>\n",
       "      <td>Agree strongly</td>\n",
       "      <td>Agree somewhat</td>\n",
       "      <td>Agree somewhat</td>\n",
       "      <td>Social media sites</td>\n",
       "      <td>Agree somewhat</td>\n",
       "      <td>10</td>\n",
       "    </tr>\n",
       "    <tr>\n",
       "      <th>1</th>\n",
       "      <td>4</td>\n",
       "      <td>30</td>\n",
       "      <td>Female</td>\n",
       "      <td>30-46</td>\n",
       "      <td>Arkansas</td>\n",
       "      <td>South</td>\n",
       "      <td>Unemployed</td>\n",
       "      <td>White or Caucasian (Non-Hispanic)</td>\n",
       "      <td>Yes</td>\n",
       "      <td>Yes</td>\n",
       "      <td>...</td>\n",
       "      <td>Disagree strongly</td>\n",
       "      <td>Disagree strongly</td>\n",
       "      <td>Disagree strongly</td>\n",
       "      <td>Disagree somewhat</td>\n",
       "      <td>Disagree strongly</td>\n",
       "      <td>Disagree somewhat</td>\n",
       "      <td>Agree somewhat</td>\n",
       "      <td>Social media sites</td>\n",
       "      <td>Agree strongly</td>\n",
       "      <td>10</td>\n",
       "    </tr>\n",
       "    <tr>\n",
       "      <th>2</th>\n",
       "      <td>8</td>\n",
       "      <td>61</td>\n",
       "      <td>Male</td>\n",
       "      <td>47-65</td>\n",
       "      <td>Alabama</td>\n",
       "      <td>South</td>\n",
       "      <td>Retired</td>\n",
       "      <td>White or Caucasian (Non-Hispanic)</td>\n",
       "      <td>No</td>\n",
       "      <td>NaN</td>\n",
       "      <td>...</td>\n",
       "      <td>Disagree strongly</td>\n",
       "      <td>Disagree strongly</td>\n",
       "      <td>Disagree strongly</td>\n",
       "      <td>Disagree strongly</td>\n",
       "      <td>Disagree strongly</td>\n",
       "      <td>Disagree strongly</td>\n",
       "      <td>Agree strongly</td>\n",
       "      <td>Television news stations</td>\n",
       "      <td>Agree strongly</td>\n",
       "      <td>10</td>\n",
       "    </tr>\n",
       "    <tr>\n",
       "      <th>3</th>\n",
       "      <td>3</td>\n",
       "      <td>68</td>\n",
       "      <td>Female</td>\n",
       "      <td>66 or older</td>\n",
       "      <td>New York</td>\n",
       "      <td>Northeast</td>\n",
       "      <td>Retired</td>\n",
       "      <td>White or Caucasian (Non-Hispanic)</td>\n",
       "      <td>No</td>\n",
       "      <td>NaN</td>\n",
       "      <td>...</td>\n",
       "      <td>N/A; I do not have a basis to answer</td>\n",
       "      <td>N/A; I do not have a basis to answer</td>\n",
       "      <td>N/A; I do not have a basis to answer</td>\n",
       "      <td>Disagree strongly</td>\n",
       "      <td>Disagree somewhat</td>\n",
       "      <td>Disagree strongly</td>\n",
       "      <td>Agree strongly</td>\n",
       "      <td>Television news stations</td>\n",
       "      <td>Agree somewhat</td>\n",
       "      <td>10</td>\n",
       "    </tr>\n",
       "    <tr>\n",
       "      <th>4</th>\n",
       "      <td>15</td>\n",
       "      <td>50</td>\n",
       "      <td>Female</td>\n",
       "      <td>47-65</td>\n",
       "      <td>Iowa</td>\n",
       "      <td>Midwest</td>\n",
       "      <td>Employed full-time or part-time</td>\n",
       "      <td>White or Caucasian (Non-Hispanic)</td>\n",
       "      <td>No</td>\n",
       "      <td>NaN</td>\n",
       "      <td>...</td>\n",
       "      <td>Disagree strongly</td>\n",
       "      <td>Disagree strongly</td>\n",
       "      <td>Disagree strongly</td>\n",
       "      <td>Disagree strongly</td>\n",
       "      <td>Disagree strongly</td>\n",
       "      <td>Disagree strongly</td>\n",
       "      <td>Agree somewhat</td>\n",
       "      <td>Television news stations</td>\n",
       "      <td>Agree somewhat</td>\n",
       "      <td>10</td>\n",
       "    </tr>\n",
       "  </tbody>\n",
       "</table>\n",
       "<p>5 rows × 184 columns</p>\n",
       "</div>"
      ],
      "text/plain": [
       "   record - Record number  Q1r1 - To begin, what is your age?  \\\n",
       "0                       7                                  31   \n",
       "1                       4                                  30   \n",
       "2                       8                                  61   \n",
       "3                       3                                  68   \n",
       "4                      15                                  50   \n",
       "\n",
       "  Q4 - What is your gender? age - you are...  \\\n",
       "0                    Female            30-46   \n",
       "1                    Female            30-46   \n",
       "2                      Male            47-65   \n",
       "3                    Female      66 or older   \n",
       "4                    Female            47-65   \n",
       "\n",
       "  Q2 - In which state do you currently reside? region - Region  \\\n",
       "0                                     Illinois         Midwest   \n",
       "1                                     Arkansas           South   \n",
       "2                                      Alabama           South   \n",
       "3                                     New York       Northeast   \n",
       "4                                         Iowa         Midwest   \n",
       "\n",
       "  QNEW3 - What is your employment status?  \\\n",
       "0                              Unemployed   \n",
       "1                              Unemployed   \n",
       "2                                 Retired   \n",
       "3                                 Retired   \n",
       "4         Employed full-time or part-time   \n",
       "\n",
       "  Q5 - Which category best describes your ethnicity?  \\\n",
       "0                  White or Caucasian (Non-Hispanic)   \n",
       "1                  White or Caucasian (Non-Hispanic)   \n",
       "2                  White or Caucasian (Non-Hispanic)   \n",
       "3                  White or Caucasian (Non-Hispanic)   \n",
       "4                  White or Caucasian (Non-Hispanic)   \n",
       "\n",
       "  QNEW1 - Do you have children living in your home (excluding yourself if you are under 18)?  \\\n",
       "0                                                Yes                                           \n",
       "1                                                Yes                                           \n",
       "2                                                 No                                           \n",
       "3                                                 No                                           \n",
       "4                                                 No                                           \n",
       "\n",
       "  QNEW2 - How old are the children in your home?-0-4 years  ...  \\\n",
       "0                                                 No        ...   \n",
       "1                                                Yes        ...   \n",
       "2                                                NaN        ...   \n",
       "3                                                NaN        ...   \n",
       "4                                                NaN        ...   \n",
       "\n",
       "  Q39rNEW1 - I would rather pay for sports information online in exchange for not being exposed to advertisements. - Using the scale below, please indicate how much you agree or disagree with the following statements. If the question does not apply to you, c  \\\n",
       "0                                     Agree somewhat                                                                                                                                                                                                                 \n",
       "1                                  Disagree strongly                                                                                                                                                                                                                 \n",
       "2                                  Disagree strongly                                                                                                                                                                                                                 \n",
       "3               N/A; I do not have a basis to answer                                                                                                                                                                                                                 \n",
       "4                                  Disagree strongly                                                                                                                                                                                                                 \n",
       "\n",
       "  Q39rNEW2 - I would rather pay for games online in exchange for not being exposed to advertisements. - Using the scale below, please indicate how much you agree or disagree with the following statements. If the question does not apply to you, choose \"N/A.\"  \\\n",
       "0                                     Agree strongly                                                                                                                                                                                                                \n",
       "1                                  Disagree strongly                                                                                                                                                                                                                \n",
       "2                                  Disagree strongly                                                                                                                                                                                                                \n",
       "3               N/A; I do not have a basis to answer                                                                                                                                                                                                                \n",
       "4                                  Disagree strongly                                                                                                                                                                                                                \n",
       "\n",
       "  Q39rNEW3 - I would rather pay for music online in exchange for not being exposed to advertisements. - Using the scale below, please indicate how much you agree or disagree with the following statements. If the question does not apply to you, choose \"N/A.\"  \\\n",
       "0                                     Agree strongly                                                                                                                                                                                                                \n",
       "1                                  Disagree strongly                                                                                                                                                                                                                \n",
       "2                                  Disagree strongly                                                                                                                                                                                                                \n",
       "3               N/A; I do not have a basis to answer                                                                                                                                                                                                                \n",
       "4                                  Disagree strongly                                                                                                                                                                                                                \n",
       "\n",
       "  Q39rNEW4 - I would rather pay for TV shows online in exchange for not being exposed to advertisements. - Using the scale below, please indicate how much you agree or disagree with the following statements. If the question does not apply to you, choose \"N/A  \\\n",
       "0                                     Agree somewhat                                                                                                                                                                                                                 \n",
       "1                                  Disagree somewhat                                                                                                                                                                                                                 \n",
       "2                                  Disagree strongly                                                                                                                                                                                                                 \n",
       "3                                  Disagree strongly                                                                                                                                                                                                                 \n",
       "4                                  Disagree strongly                                                                                                                                                                                                                 \n",
       "\n",
       "  Q39rNEW5 - I would rather pay for movies online in exchange for not being exposed to advertisements. - Using the scale below, please indicate how much you agree or disagree with the following statements. If the question does not apply to you, choose \"N/A.\"  \\\n",
       "0                                     Agree strongly                                                                                                                                                                                                                 \n",
       "1                                  Disagree strongly                                                                                                                                                                                                                 \n",
       "2                                  Disagree strongly                                                                                                                                                                                                                 \n",
       "3                                  Disagree somewhat                                                                                                                                                                                                                 \n",
       "4                                  Disagree strongly                                                                                                                                                                                                                 \n",
       "\n",
       "  Q39r2 - I would be willing to provide more personal information online if that meant I could receive advertising more targeted to my needs and interests. - Using the scale below, please indicate how much you agree or disagree with the following statements.  \\\n",
       "0                                     Agree somewhat                                                                                                                                                                                                                 \n",
       "1                                  Disagree somewhat                                                                                                                                                                                                                 \n",
       "2                                  Disagree strongly                                                                                                                                                                                                                 \n",
       "3                                  Disagree strongly                                                                                                                                                                                                                 \n",
       "4                                  Disagree strongly                                                                                                                                                                                                                 \n",
       "\n",
       "  Q39r3 - By providing more personal information online, I am worried about becoming a victim of identity theft. - Using the scale below, please indicate how much you agree or disagree with the following statements. If the question does not apply to you, cho  \\\n",
       "0                                     Agree somewhat                                                                                                                                                                                                                 \n",
       "1                                     Agree somewhat                                                                                                                                                                                                                 \n",
       "2                                     Agree strongly                                                                                                                                                                                                                 \n",
       "3                                     Agree strongly                                                                                                                                                                                                                 \n",
       "4                                     Agree somewhat                                                                                                                                                                                                                 \n",
       "\n",
       "  Q89 - Which of the following is your most frequently used mechanism to get news?  \\\n",
       "0                                 Social media sites                                 \n",
       "1                                 Social media sites                                 \n",
       "2                           Television news stations                                 \n",
       "3                           Television news stations                                 \n",
       "4                           Television news stations                                 \n",
       "\n",
       "   target_willing year  \n",
       "0  Agree somewhat   10  \n",
       "1  Agree strongly   10  \n",
       "2  Agree strongly   10  \n",
       "3  Agree somewhat   10  \n",
       "4  Agree somewhat   10  \n",
       "\n",
       "[5 rows x 184 columns]"
      ]
     },
     "execution_count": 10,
     "metadata": {},
     "output_type": "execute_result"
    }
   ],
   "source": [
    "df.head()"
   ]
  },
  {
   "cell_type": "code",
   "execution_count": 11,
   "metadata": {},
   "outputs": [
    {
     "data": {
      "text/plain": [
       "(4336, 184)"
      ]
     },
     "execution_count": 11,
     "metadata": {},
     "output_type": "execute_result"
    }
   ],
   "source": [
    "df.shape"
   ]
  },
  {
   "cell_type": "markdown",
   "metadata": {},
   "source": [
    "The next step is to rename the columns for easier processing."
   ]
  },
  {
   "cell_type": "code",
   "execution_count": 12,
   "metadata": {},
   "outputs": [],
   "source": [
    "pd.Series(df.columns).to_csv('cols.csv')"
   ]
  },
  {
   "cell_type": "code",
   "execution_count": 13,
   "metadata": {},
   "outputs": [],
   "source": [
    "colnames = pd.read_csv('columns.csv')[['Orig', 'New']]\n",
    "\n",
    "colnames = pd.Series(colnames.New.values, index = colnames.Orig).to_dict()"
   ]
  },
  {
   "cell_type": "code",
   "execution_count": 14,
   "metadata": {},
   "outputs": [],
   "source": [
    "df = df.rename(columns = colnames)"
   ]
  },
  {
   "cell_type": "code",
   "execution_count": 15,
   "metadata": {},
   "outputs": [
    {
     "data": {
      "text/html": [
       "<div>\n",
       "<style scoped>\n",
       "    .dataframe tbody tr th:only-of-type {\n",
       "        vertical-align: middle;\n",
       "    }\n",
       "\n",
       "    .dataframe tbody tr th {\n",
       "        vertical-align: top;\n",
       "    }\n",
       "\n",
       "    .dataframe thead th {\n",
       "        text-align: right;\n",
       "    }\n",
       "</style>\n",
       "<table border=\"1\" class=\"dataframe\">\n",
       "  <thead>\n",
       "    <tr style=\"text-align: right;\">\n",
       "      <th></th>\n",
       "      <th>recNo</th>\n",
       "      <th>age</th>\n",
       "      <th>gender</th>\n",
       "      <th>ageGrp</th>\n",
       "      <th>state</th>\n",
       "      <th>region</th>\n",
       "      <th>status</th>\n",
       "      <th>ethnicity</th>\n",
       "      <th>childAtHome</th>\n",
       "      <th>childAtHome_0-4</th>\n",
       "      <th>...</th>\n",
       "      <th>paySportsforNoAds</th>\n",
       "      <th>payGamesForNoAds</th>\n",
       "      <th>PayMusicForNoAds</th>\n",
       "      <th>PayTVForNoAds</th>\n",
       "      <th>PayMovieForNoAds</th>\n",
       "      <th>infoForTargetAds</th>\n",
       "      <th>infoIDTheft</th>\n",
       "      <th>getNews</th>\n",
       "      <th>target_willing</th>\n",
       "      <th>year</th>\n",
       "    </tr>\n",
       "  </thead>\n",
       "  <tbody>\n",
       "    <tr>\n",
       "      <th>0</th>\n",
       "      <td>7</td>\n",
       "      <td>31</td>\n",
       "      <td>Female</td>\n",
       "      <td>30-46</td>\n",
       "      <td>Illinois</td>\n",
       "      <td>Midwest</td>\n",
       "      <td>Unemployed</td>\n",
       "      <td>White or Caucasian (Non-Hispanic)</td>\n",
       "      <td>Yes</td>\n",
       "      <td>No</td>\n",
       "      <td>...</td>\n",
       "      <td>Agree somewhat</td>\n",
       "      <td>Agree strongly</td>\n",
       "      <td>Agree strongly</td>\n",
       "      <td>Agree somewhat</td>\n",
       "      <td>Agree strongly</td>\n",
       "      <td>Agree somewhat</td>\n",
       "      <td>Agree somewhat</td>\n",
       "      <td>Social media sites</td>\n",
       "      <td>Agree somewhat</td>\n",
       "      <td>10</td>\n",
       "    </tr>\n",
       "    <tr>\n",
       "      <th>1</th>\n",
       "      <td>4</td>\n",
       "      <td>30</td>\n",
       "      <td>Female</td>\n",
       "      <td>30-46</td>\n",
       "      <td>Arkansas</td>\n",
       "      <td>South</td>\n",
       "      <td>Unemployed</td>\n",
       "      <td>White or Caucasian (Non-Hispanic)</td>\n",
       "      <td>Yes</td>\n",
       "      <td>Yes</td>\n",
       "      <td>...</td>\n",
       "      <td>Disagree strongly</td>\n",
       "      <td>Disagree strongly</td>\n",
       "      <td>Disagree strongly</td>\n",
       "      <td>Disagree somewhat</td>\n",
       "      <td>Disagree strongly</td>\n",
       "      <td>Disagree somewhat</td>\n",
       "      <td>Agree somewhat</td>\n",
       "      <td>Social media sites</td>\n",
       "      <td>Agree strongly</td>\n",
       "      <td>10</td>\n",
       "    </tr>\n",
       "    <tr>\n",
       "      <th>2</th>\n",
       "      <td>8</td>\n",
       "      <td>61</td>\n",
       "      <td>Male</td>\n",
       "      <td>47-65</td>\n",
       "      <td>Alabama</td>\n",
       "      <td>South</td>\n",
       "      <td>Retired</td>\n",
       "      <td>White or Caucasian (Non-Hispanic)</td>\n",
       "      <td>No</td>\n",
       "      <td>NaN</td>\n",
       "      <td>...</td>\n",
       "      <td>Disagree strongly</td>\n",
       "      <td>Disagree strongly</td>\n",
       "      <td>Disagree strongly</td>\n",
       "      <td>Disagree strongly</td>\n",
       "      <td>Disagree strongly</td>\n",
       "      <td>Disagree strongly</td>\n",
       "      <td>Agree strongly</td>\n",
       "      <td>Television news stations</td>\n",
       "      <td>Agree strongly</td>\n",
       "      <td>10</td>\n",
       "    </tr>\n",
       "    <tr>\n",
       "      <th>3</th>\n",
       "      <td>3</td>\n",
       "      <td>68</td>\n",
       "      <td>Female</td>\n",
       "      <td>66 or older</td>\n",
       "      <td>New York</td>\n",
       "      <td>Northeast</td>\n",
       "      <td>Retired</td>\n",
       "      <td>White or Caucasian (Non-Hispanic)</td>\n",
       "      <td>No</td>\n",
       "      <td>NaN</td>\n",
       "      <td>...</td>\n",
       "      <td>N/A; I do not have a basis to answer</td>\n",
       "      <td>N/A; I do not have a basis to answer</td>\n",
       "      <td>N/A; I do not have a basis to answer</td>\n",
       "      <td>Disagree strongly</td>\n",
       "      <td>Disagree somewhat</td>\n",
       "      <td>Disagree strongly</td>\n",
       "      <td>Agree strongly</td>\n",
       "      <td>Television news stations</td>\n",
       "      <td>Agree somewhat</td>\n",
       "      <td>10</td>\n",
       "    </tr>\n",
       "    <tr>\n",
       "      <th>4</th>\n",
       "      <td>15</td>\n",
       "      <td>50</td>\n",
       "      <td>Female</td>\n",
       "      <td>47-65</td>\n",
       "      <td>Iowa</td>\n",
       "      <td>Midwest</td>\n",
       "      <td>Employed full-time or part-time</td>\n",
       "      <td>White or Caucasian (Non-Hispanic)</td>\n",
       "      <td>No</td>\n",
       "      <td>NaN</td>\n",
       "      <td>...</td>\n",
       "      <td>Disagree strongly</td>\n",
       "      <td>Disagree strongly</td>\n",
       "      <td>Disagree strongly</td>\n",
       "      <td>Disagree strongly</td>\n",
       "      <td>Disagree strongly</td>\n",
       "      <td>Disagree strongly</td>\n",
       "      <td>Agree somewhat</td>\n",
       "      <td>Television news stations</td>\n",
       "      <td>Agree somewhat</td>\n",
       "      <td>10</td>\n",
       "    </tr>\n",
       "  </tbody>\n",
       "</table>\n",
       "<p>5 rows × 184 columns</p>\n",
       "</div>"
      ],
      "text/plain": [
       "   recNo  age  gender       ageGrp     state     region  \\\n",
       "0      7   31  Female        30-46  Illinois    Midwest   \n",
       "1      4   30  Female        30-46  Arkansas      South   \n",
       "2      8   61    Male        47-65   Alabama      South   \n",
       "3      3   68  Female  66 or older  New York  Northeast   \n",
       "4     15   50  Female        47-65      Iowa    Midwest   \n",
       "\n",
       "                            status                          ethnicity  \\\n",
       "0                       Unemployed  White or Caucasian (Non-Hispanic)   \n",
       "1                       Unemployed  White or Caucasian (Non-Hispanic)   \n",
       "2                          Retired  White or Caucasian (Non-Hispanic)   \n",
       "3                          Retired  White or Caucasian (Non-Hispanic)   \n",
       "4  Employed full-time or part-time  White or Caucasian (Non-Hispanic)   \n",
       "\n",
       "  childAtHome childAtHome_0-4  ...                     paySportsforNoAds  \\\n",
       "0         Yes              No  ...                        Agree somewhat   \n",
       "1         Yes             Yes  ...                     Disagree strongly   \n",
       "2          No             NaN  ...                     Disagree strongly   \n",
       "3          No             NaN  ...  N/A; I do not have a basis to answer   \n",
       "4          No             NaN  ...                     Disagree strongly   \n",
       "\n",
       "                       payGamesForNoAds                      PayMusicForNoAds  \\\n",
       "0                        Agree strongly                        Agree strongly   \n",
       "1                     Disagree strongly                     Disagree strongly   \n",
       "2                     Disagree strongly                     Disagree strongly   \n",
       "3  N/A; I do not have a basis to answer  N/A; I do not have a basis to answer   \n",
       "4                     Disagree strongly                     Disagree strongly   \n",
       "\n",
       "       PayTVForNoAds   PayMovieForNoAds   infoForTargetAds     infoIDTheft  \\\n",
       "0     Agree somewhat     Agree strongly     Agree somewhat  Agree somewhat   \n",
       "1  Disagree somewhat  Disagree strongly  Disagree somewhat  Agree somewhat   \n",
       "2  Disagree strongly  Disagree strongly  Disagree strongly  Agree strongly   \n",
       "3  Disagree strongly  Disagree somewhat  Disagree strongly  Agree strongly   \n",
       "4  Disagree strongly  Disagree strongly  Disagree strongly  Agree somewhat   \n",
       "\n",
       "                    getNews  target_willing year  \n",
       "0        Social media sites  Agree somewhat   10  \n",
       "1        Social media sites  Agree strongly   10  \n",
       "2  Television news stations  Agree strongly   10  \n",
       "3  Television news stations  Agree somewhat   10  \n",
       "4  Television news stations  Agree somewhat   10  \n",
       "\n",
       "[5 rows x 184 columns]"
      ]
     },
     "execution_count": 15,
     "metadata": {},
     "output_type": "execute_result"
    }
   ],
   "source": [
    "df.head()"
   ]
  },
  {
   "cell_type": "code",
   "execution_count": 16,
   "metadata": {},
   "outputs": [],
   "source": [
    "# drop recNo column\n",
    "df = df.drop(labels = 'recNo', axis = 1)"
   ]
  },
  {
   "cell_type": "markdown",
   "metadata": {},
   "source": [
    "Next, we will examine the distribution of NAs in the current dataset."
   ]
  },
  {
   "cell_type": "code",
   "execution_count": 17,
   "metadata": {},
   "outputs": [
    {
     "data": {
      "text/plain": [
       "valueDrone             0.988699\n",
       "valuePlaceholder       0.986854\n",
       "valueVR                0.985932\n",
       "valueSmartwatch        0.974400\n",
       "valueFitnessband       0.970480\n",
       "valueE-Reader          0.969788\n",
       "valueDigTVAntenna      0.966328\n",
       "valuePortableGaming    0.965406\n",
       "subsValMagazine        0.936347\n",
       "valueDVD               0.935194\n",
       "valueDVR               0.923893\n",
       "valuePhone             0.905673\n",
       "subsValNews            0.901983\n",
       "prefMagazine           0.887915\n",
       "subsValGaming          0.870387\n",
       "prefRadio              0.841559\n",
       "prefNewspaper          0.825876\n",
       "valueRouter            0.812731\n",
       "prefLiveShow           0.809041\n",
       "valueTablet            0.807887\n",
       "subsValLandline        0.775138\n",
       "subsValMobileVoice     0.775138\n",
       "prefMovie              0.730166\n",
       "prefBook               0.725323\n",
       "prefVideoGames         0.721172\n",
       "subsValMobileData      0.697878\n",
       "valueDesktop           0.646679\n",
       "valueTV                0.645756\n",
       "prefMusic              0.624769\n",
       "childAtHome_unsure     0.614391\n",
       "childAtHome_26+        0.614391\n",
       "childAtHome_19-25      0.614391\n",
       "childAtHome_14-18      0.614391\n",
       "childAtHome_10-13      0.614391\n",
       "childAtHome_5-9        0.614391\n",
       "childAtHome_0-4        0.614391\n",
       "valueLaptop            0.497924\n",
       "valueSmartphone        0.458718\n",
       "prefSocial             0.434271\n",
       "prefTV                 0.399908\n",
       "appTickets             0.302583\n",
       "appReservations        0.302583\n",
       "appEducation           0.302583\n",
       "appPhotoVideo          0.302583\n",
       "appNA                  0.302583\n",
       "appMobilePayment       0.302583\n",
       "appMessaging           0.302583\n",
       "appBanking             0.302583\n",
       "appUnsure              0.302583\n",
       "appDating              0.302583\n",
       "dtype: float64"
      ]
     },
     "execution_count": 17,
     "metadata": {},
     "output_type": "execute_result"
    }
   ],
   "source": [
    "# top 50 columns with missing values \n",
    "\n",
    "df.isna().mean().sort_values(ascending=False)[:50]"
   ]
  },
  {
   "cell_type": "markdown",
   "metadata": {},
   "source": [
    "Details about dropped columns and rationale\n",
    "\n",
    "Post inspection of the columns, we will be removing columns that do not add value to our analysis. Following is the set of columns to be removed and rationale behind each:\n",
    "1. State column as we will be using 'Region' for our segmentation purposes \n",
    "2. Columns containing age of the children - 'How old are the children in your home?'\n",
    "These columns have been removed because these contain lot of null values , and for our segmentation analysis- the information that a family has children or not is enough and age group bifurcation is not relevant.\n",
    "3. Columns containing Ranking of how important an owned media or home equipment is for a family- \n",
    "Of the products you indicated you own, which do you value the most?\n",
    "These columns have very high proportion of null values, and the rank assignment is very subjective to individual user and not a good candidate for generalisation -  A '2' for one user doesn't mean the same as a '2' for another user\n",
    "4. Columns covering 'Don't Know' answer option - These columns do not add value to the analysis\n",
    "What types of apps do you use frequently (everyday/weekly) on your smartphone?-Don't Know\n",
    "Which of the following subscriptions does your household purchase?-Don't Know\n",
    "5. Columns containing Ranking of how valued an owned subscription is for a family-\n",
    "Of the services you indicated your household purchases, which do you value the most?\n",
    "These columns have very high proportion of null values, and the rank assignment is very subjective to individual user and not a good candidate for generalisation -  A '2' for one user doesn't mean the same as a '2' for another user \n",
    "6. Columns identifying mediums in which customers are willing to avail paid services in lieu of no advertisements-\n",
    "I would rather pay for X in exchange for not being exposed to advertisements\n",
    "These set of columns are other similar outcome variables to our target. Given that these are more output than input related, these would not add value to our analysis"
   ]
  },
  {
   "cell_type": "code",
   "execution_count": 18,
   "metadata": {},
   "outputs": [
    {
     "data": {
      "text/plain": [
       "(4336, 142)"
      ]
     },
     "execution_count": 18,
     "metadata": {},
     "output_type": "execute_result"
    }
   ],
   "source": [
    "#Dropping certain columns based on rationale described in above cell\n",
    "cols_keep = pd.read_csv('columns.csv')[['New', 'Drop']]\n",
    "cols_keep= cols_keep[cols_keep['Drop']!=1]\n",
    "col_list= list(cols_keep['New'])\n",
    "cols = [x for x in df.columns if x in col_list]\n",
    "df=df[cols]\n",
    "df.shape"
   ]
  },
  {
   "cell_type": "markdown",
   "metadata": {},
   "source": [
    "Next, we will convert answers to numbers for easier processing later in our models. For Yes / No columns we replaced the values with 1 / 0, and for the other values an additional column labelled 'coded' \n",
    "- (Household income specific) Less than \\\\$29,999 = 0, \\\\$30,000 to \\\\$ 49,999 = 1, \\\\$ 50,000 to \\\\$ 99,999 = 2, \\\\$ 100,000 to \\\\$ 299,999 = 3, More than \\\\$ 300,000 = 4, Do not know = Null value\n",
    "- Yes = 1, No = 0\n",
    "- Never = 0, Rarely (one to three times a year) = 1, Occasionally (monthly) = 2, Frequently (every day/weekly) = 3\n",
    "- Almost never = 0, Rarely (10%-50% of the time) = 1, Frequently (between 50% and 75% of the time) = 2, Almost always (greater than 75% of the time) = 3, Always (close to 100% of the time) = 4\n",
    "- N/A; I do not have a basis to answer = Null value, Disagree strongly = 0, Disagree somewhat = 1, Agree somewhat = 2, Agree strongly = 3\n",
    "\n",
    "A copy of the original data will be created so that the original responses are saved for reference."
   ]
  },
  {
   "cell_type": "code",
   "execution_count": 19,
   "metadata": {},
   "outputs": [],
   "source": [
    "df2 = df.copy()"
   ]
  },
  {
   "cell_type": "code",
   "execution_count": 20,
   "metadata": {},
   "outputs": [],
   "source": [
    "df2.replace(('Yes','No'),(1,0), inplace=True)"
   ]
  },
  {
   "cell_type": "code",
   "execution_count": 21,
   "metadata": {},
   "outputs": [],
   "source": [
    "# Question 19\n",
    "\n",
    "cols = ['freqMovRentDVD','freqMovBuyDVD','freqMovBuyDownload','freqMovRentDownload',\n",
    "    'freqMovStream','freqMovPayPerView','freqTVRentDVD','freqTVBuyDVD', \n",
    "    'freqTVBuyDownload','freqTVStream','freqTVPayPerView']\n",
    "\n",
    "df2[cols] = df2[cols].replace(['Never', 'Rarely (one to three times a year)', 'Occasionally (monthly)','Frequently (every day/weekly)'], [0, 1, 2, 3])"
   ]
  },
  {
   "cell_type": "code",
   "execution_count": 22,
   "metadata": {},
   "outputs": [],
   "source": [
    "# Question 73\n",
    "\n",
    "cols = ['TVWhileReadWork','TVWhileReadPleasure','TVWhileWeb','TVWhileMicroblog',\n",
    "    'TVWhileReadEmail','TVWhileWriteEmail','TVWhileText','TVWhileSocial',\n",
    "   'TVWhileCall','TVWhileBrowseProd','TVWhilePurchaseProd','TVWhileVideoGames']\n",
    "\n",
    "df2[cols] = df2[cols].replace(['Almost never', 'Rarely (10%-50% of the time)', 'Frequently (between 50% and 75% of the time)','Almost always (greater than 75% of the time)','Always (close to 100% of the time)'], [0, 1, 2, 3, 4])"
   ]
  },
  {
   "cell_type": "code",
   "execution_count": 23,
   "metadata": {},
   "outputs": [],
   "source": [
    "# Question 39 and target column\n",
    "\n",
    "cols = ['infoForTargetAds','infoIDTheft', 'target_willing']\n",
    "\n",
    "df2[cols] = df2[cols].replace(['N/A; I do not have a basis to answer', 'Disagree strongly', 'Disagree somewhat','Agree somewhat','Agree strongly'], [np.nan, 0, 1, 2, 3])"
   ]
  },
  {
   "cell_type": "code",
   "execution_count": 24,
   "metadata": {},
   "outputs": [],
   "source": [
    "# Household Income\n",
    "\n",
    "df2[['HHIncome']] = df2[['HHIncome']].replace(['Less than $29,999', '$30,000 to $49,999', '$50,000 to $99,999','$100,000 to $299,999','More than $300,000','Do not know'], [0, 1, 2, 3, 4, np.nan])"
   ]
  },
  {
   "cell_type": "code",
   "execution_count": 25,
   "metadata": {},
   "outputs": [
    {
     "data": {
      "text/html": [
       "<div>\n",
       "<style scoped>\n",
       "    .dataframe tbody tr th:only-of-type {\n",
       "        vertical-align: middle;\n",
       "    }\n",
       "\n",
       "    .dataframe tbody tr th {\n",
       "        vertical-align: top;\n",
       "    }\n",
       "\n",
       "    .dataframe thead th {\n",
       "        text-align: right;\n",
       "    }\n",
       "</style>\n",
       "<table border=\"1\" class=\"dataframe\">\n",
       "  <thead>\n",
       "    <tr style=\"text-align: right;\">\n",
       "      <th></th>\n",
       "      <th>age</th>\n",
       "      <th>gender</th>\n",
       "      <th>region</th>\n",
       "      <th>status</th>\n",
       "      <th>ethnicity</th>\n",
       "      <th>childAtHome</th>\n",
       "      <th>HHIncome</th>\n",
       "      <th>ownsTV</th>\n",
       "      <th>ownsDVR</th>\n",
       "      <th>ownsStreamingBox</th>\n",
       "      <th>...</th>\n",
       "      <th>TVWhileSocial</th>\n",
       "      <th>TVWhileCall</th>\n",
       "      <th>TVWhileBrowseProd</th>\n",
       "      <th>TVWhilePurchaseProd</th>\n",
       "      <th>TVWhileVideoGames</th>\n",
       "      <th>infoForTargetAds</th>\n",
       "      <th>infoIDTheft</th>\n",
       "      <th>getNews</th>\n",
       "      <th>target_willing</th>\n",
       "      <th>year</th>\n",
       "    </tr>\n",
       "  </thead>\n",
       "  <tbody>\n",
       "    <tr>\n",
       "      <th>0</th>\n",
       "      <td>31</td>\n",
       "      <td>Female</td>\n",
       "      <td>Midwest</td>\n",
       "      <td>Unemployed</td>\n",
       "      <td>White or Caucasian (Non-Hispanic)</td>\n",
       "      <td>1</td>\n",
       "      <td>2.0</td>\n",
       "      <td>0</td>\n",
       "      <td>0</td>\n",
       "      <td>0</td>\n",
       "      <td>...</td>\n",
       "      <td>4</td>\n",
       "      <td>3</td>\n",
       "      <td>4</td>\n",
       "      <td>3</td>\n",
       "      <td>4</td>\n",
       "      <td>2.0</td>\n",
       "      <td>2.0</td>\n",
       "      <td>Social media sites</td>\n",
       "      <td>2.0</td>\n",
       "      <td>10</td>\n",
       "    </tr>\n",
       "    <tr>\n",
       "      <th>1</th>\n",
       "      <td>30</td>\n",
       "      <td>Female</td>\n",
       "      <td>South</td>\n",
       "      <td>Unemployed</td>\n",
       "      <td>White or Caucasian (Non-Hispanic)</td>\n",
       "      <td>1</td>\n",
       "      <td>1.0</td>\n",
       "      <td>1</td>\n",
       "      <td>1</td>\n",
       "      <td>0</td>\n",
       "      <td>...</td>\n",
       "      <td>2</td>\n",
       "      <td>1</td>\n",
       "      <td>1</td>\n",
       "      <td>1</td>\n",
       "      <td>0</td>\n",
       "      <td>1.0</td>\n",
       "      <td>2.0</td>\n",
       "      <td>Social media sites</td>\n",
       "      <td>3.0</td>\n",
       "      <td>10</td>\n",
       "    </tr>\n",
       "    <tr>\n",
       "      <th>2</th>\n",
       "      <td>61</td>\n",
       "      <td>Male</td>\n",
       "      <td>South</td>\n",
       "      <td>Retired</td>\n",
       "      <td>White or Caucasian (Non-Hispanic)</td>\n",
       "      <td>0</td>\n",
       "      <td>3.0</td>\n",
       "      <td>1</td>\n",
       "      <td>1</td>\n",
       "      <td>0</td>\n",
       "      <td>...</td>\n",
       "      <td>0</td>\n",
       "      <td>1</td>\n",
       "      <td>1</td>\n",
       "      <td>1</td>\n",
       "      <td>1</td>\n",
       "      <td>0.0</td>\n",
       "      <td>3.0</td>\n",
       "      <td>Television news stations</td>\n",
       "      <td>3.0</td>\n",
       "      <td>10</td>\n",
       "    </tr>\n",
       "    <tr>\n",
       "      <th>3</th>\n",
       "      <td>68</td>\n",
       "      <td>Female</td>\n",
       "      <td>Northeast</td>\n",
       "      <td>Retired</td>\n",
       "      <td>White or Caucasian (Non-Hispanic)</td>\n",
       "      <td>0</td>\n",
       "      <td>2.0</td>\n",
       "      <td>1</td>\n",
       "      <td>0</td>\n",
       "      <td>1</td>\n",
       "      <td>...</td>\n",
       "      <td>0</td>\n",
       "      <td>1</td>\n",
       "      <td>1</td>\n",
       "      <td>0</td>\n",
       "      <td>1</td>\n",
       "      <td>0.0</td>\n",
       "      <td>3.0</td>\n",
       "      <td>Television news stations</td>\n",
       "      <td>2.0</td>\n",
       "      <td>10</td>\n",
       "    </tr>\n",
       "    <tr>\n",
       "      <th>4</th>\n",
       "      <td>50</td>\n",
       "      <td>Female</td>\n",
       "      <td>Midwest</td>\n",
       "      <td>Employed full-time or part-time</td>\n",
       "      <td>White or Caucasian (Non-Hispanic)</td>\n",
       "      <td>0</td>\n",
       "      <td>2.0</td>\n",
       "      <td>1</td>\n",
       "      <td>1</td>\n",
       "      <td>0</td>\n",
       "      <td>...</td>\n",
       "      <td>1</td>\n",
       "      <td>1</td>\n",
       "      <td>1</td>\n",
       "      <td>1</td>\n",
       "      <td>2</td>\n",
       "      <td>0.0</td>\n",
       "      <td>2.0</td>\n",
       "      <td>Television news stations</td>\n",
       "      <td>2.0</td>\n",
       "      <td>10</td>\n",
       "    </tr>\n",
       "  </tbody>\n",
       "</table>\n",
       "<p>5 rows × 142 columns</p>\n",
       "</div>"
      ],
      "text/plain": [
       "   age  gender     region                           status  \\\n",
       "0   31  Female    Midwest                       Unemployed   \n",
       "1   30  Female      South                       Unemployed   \n",
       "2   61    Male      South                          Retired   \n",
       "3   68  Female  Northeast                          Retired   \n",
       "4   50  Female    Midwest  Employed full-time or part-time   \n",
       "\n",
       "                           ethnicity  childAtHome  HHIncome  ownsTV  ownsDVR  \\\n",
       "0  White or Caucasian (Non-Hispanic)            1       2.0       0        0   \n",
       "1  White or Caucasian (Non-Hispanic)            1       1.0       1        1   \n",
       "2  White or Caucasian (Non-Hispanic)            0       3.0       1        1   \n",
       "3  White or Caucasian (Non-Hispanic)            0       2.0       1        0   \n",
       "4  White or Caucasian (Non-Hispanic)            0       2.0       1        1   \n",
       "\n",
       "   ownsStreamingBox  ...  TVWhileSocial  TVWhileCall  TVWhileBrowseProd  \\\n",
       "0                 0  ...              4            3                  4   \n",
       "1                 0  ...              2            1                  1   \n",
       "2                 0  ...              0            1                  1   \n",
       "3                 1  ...              0            1                  1   \n",
       "4                 0  ...              1            1                  1   \n",
       "\n",
       "   TVWhilePurchaseProd  TVWhileVideoGames  infoForTargetAds  infoIDTheft  \\\n",
       "0                    3                  4               2.0          2.0   \n",
       "1                    1                  0               1.0          2.0   \n",
       "2                    1                  1               0.0          3.0   \n",
       "3                    0                  1               0.0          3.0   \n",
       "4                    1                  2               0.0          2.0   \n",
       "\n",
       "                    getNews  target_willing  year  \n",
       "0        Social media sites             2.0    10  \n",
       "1        Social media sites             3.0    10  \n",
       "2  Television news stations             3.0    10  \n",
       "3  Television news stations             2.0    10  \n",
       "4  Television news stations             2.0    10  \n",
       "\n",
       "[5 rows x 142 columns]"
      ]
     },
     "execution_count": 25,
     "metadata": {},
     "output_type": "execute_result"
    }
   ],
   "source": [
    "df2.head()"
   ]
  },
  {
   "cell_type": "markdown",
   "metadata": {},
   "source": [
    "Next, we will convert our categorical variables into a form that will better allow us to run our models on them.  This will be done with one hot encoding, and specifically the fields: gender, region, ethnicity, and employment status.  These fields will have new columns appended to the dataframe that will align with each variable option for the field (e.g. Gender becomes two columns - gender_Female and gender_Male)."
   ]
  },
  {
   "cell_type": "code",
   "execution_count": 26,
   "metadata": {},
   "outputs": [
    {
     "data": {
      "text/html": [
       "<div>\n",
       "<style scoped>\n",
       "    .dataframe tbody tr th:only-of-type {\n",
       "        vertical-align: middle;\n",
       "    }\n",
       "\n",
       "    .dataframe tbody tr th {\n",
       "        vertical-align: top;\n",
       "    }\n",
       "\n",
       "    .dataframe thead th {\n",
       "        text-align: right;\n",
       "    }\n",
       "</style>\n",
       "<table border=\"1\" class=\"dataframe\">\n",
       "  <thead>\n",
       "    <tr style=\"text-align: right;\">\n",
       "      <th></th>\n",
       "      <th>gender</th>\n",
       "      <th>region</th>\n",
       "      <th>status</th>\n",
       "      <th>ethnicity</th>\n",
       "      <th>willPayDoubleInternet</th>\n",
       "      <th>getNews</th>\n",
       "    </tr>\n",
       "  </thead>\n",
       "  <tbody>\n",
       "    <tr>\n",
       "      <th>0</th>\n",
       "      <td>Female</td>\n",
       "      <td>Midwest</td>\n",
       "      <td>Unemployed</td>\n",
       "      <td>White or Caucasian (Non-Hispanic)</td>\n",
       "      <td>I am willing to pay $20 per month on top of wh...</td>\n",
       "      <td>Social media sites</td>\n",
       "    </tr>\n",
       "    <tr>\n",
       "      <th>1</th>\n",
       "      <td>Female</td>\n",
       "      <td>South</td>\n",
       "      <td>Unemployed</td>\n",
       "      <td>White or Caucasian (Non-Hispanic)</td>\n",
       "      <td>I am willing to pay $10 per month on top of wh...</td>\n",
       "      <td>Social media sites</td>\n",
       "    </tr>\n",
       "    <tr>\n",
       "      <th>2</th>\n",
       "      <td>Male</td>\n",
       "      <td>South</td>\n",
       "      <td>Retired</td>\n",
       "      <td>White or Caucasian (Non-Hispanic)</td>\n",
       "      <td>I am willing to pay $10 per month on top of wh...</td>\n",
       "      <td>Television news stations</td>\n",
       "    </tr>\n",
       "    <tr>\n",
       "      <th>3</th>\n",
       "      <td>Female</td>\n",
       "      <td>Northeast</td>\n",
       "      <td>Retired</td>\n",
       "      <td>White or Caucasian (Non-Hispanic)</td>\n",
       "      <td>I am not willing to pay more for faster downlo...</td>\n",
       "      <td>Television news stations</td>\n",
       "    </tr>\n",
       "    <tr>\n",
       "      <th>4</th>\n",
       "      <td>Female</td>\n",
       "      <td>Midwest</td>\n",
       "      <td>Employed full-time or part-time</td>\n",
       "      <td>White or Caucasian (Non-Hispanic)</td>\n",
       "      <td>I am not willing to pay more for faster downlo...</td>\n",
       "      <td>Television news stations</td>\n",
       "    </tr>\n",
       "    <tr>\n",
       "      <th>...</th>\n",
       "      <td>...</td>\n",
       "      <td>...</td>\n",
       "      <td>...</td>\n",
       "      <td>...</td>\n",
       "      <td>...</td>\n",
       "      <td>...</td>\n",
       "    </tr>\n",
       "    <tr>\n",
       "      <th>2126</th>\n",
       "      <td>Male</td>\n",
       "      <td>West</td>\n",
       "      <td>Unemployed</td>\n",
       "      <td>White or Caucasian (Non-Hispanic)</td>\n",
       "      <td>I am willing to pay $20 per month on top of wh...</td>\n",
       "      <td>Social media sites</td>\n",
       "    </tr>\n",
       "    <tr>\n",
       "      <th>2127</th>\n",
       "      <td>Male</td>\n",
       "      <td>Northeast</td>\n",
       "      <td>Retired</td>\n",
       "      <td>White or Caucasian (Non-Hispanic)</td>\n",
       "      <td>I am willing to pay $5 per month on top of wha...</td>\n",
       "      <td>Television news stations</td>\n",
       "    </tr>\n",
       "    <tr>\n",
       "      <th>2128</th>\n",
       "      <td>Male</td>\n",
       "      <td>South</td>\n",
       "      <td>Unemployed</td>\n",
       "      <td>White or Caucasian (Non-Hispanic)</td>\n",
       "      <td>I am willing to pay $10 per month on top of wh...</td>\n",
       "      <td>Television news stations</td>\n",
       "    </tr>\n",
       "    <tr>\n",
       "      <th>2129</th>\n",
       "      <td>Female</td>\n",
       "      <td>Midwest</td>\n",
       "      <td>Retired</td>\n",
       "      <td>White or Caucasian (Non-Hispanic)</td>\n",
       "      <td>I am not willing to pay more for faster downlo...</td>\n",
       "      <td>Print newspapers</td>\n",
       "    </tr>\n",
       "    <tr>\n",
       "      <th>2130</th>\n",
       "      <td>Female</td>\n",
       "      <td>Northeast</td>\n",
       "      <td>Retired</td>\n",
       "      <td>Multiracial</td>\n",
       "      <td>I am not willing to pay more for faster downlo...</td>\n",
       "      <td>Radio</td>\n",
       "    </tr>\n",
       "  </tbody>\n",
       "</table>\n",
       "<p>4336 rows × 6 columns</p>\n",
       "</div>"
      ],
      "text/plain": [
       "      gender     region                           status  \\\n",
       "0     Female    Midwest                       Unemployed   \n",
       "1     Female      South                       Unemployed   \n",
       "2       Male      South                          Retired   \n",
       "3     Female  Northeast                          Retired   \n",
       "4     Female    Midwest  Employed full-time or part-time   \n",
       "...      ...        ...                              ...   \n",
       "2126    Male       West                       Unemployed   \n",
       "2127    Male  Northeast                          Retired   \n",
       "2128    Male      South                       Unemployed   \n",
       "2129  Female    Midwest                          Retired   \n",
       "2130  Female  Northeast                          Retired   \n",
       "\n",
       "                              ethnicity  \\\n",
       "0     White or Caucasian (Non-Hispanic)   \n",
       "1     White or Caucasian (Non-Hispanic)   \n",
       "2     White or Caucasian (Non-Hispanic)   \n",
       "3     White or Caucasian (Non-Hispanic)   \n",
       "4     White or Caucasian (Non-Hispanic)   \n",
       "...                                 ...   \n",
       "2126  White or Caucasian (Non-Hispanic)   \n",
       "2127  White or Caucasian (Non-Hispanic)   \n",
       "2128  White or Caucasian (Non-Hispanic)   \n",
       "2129  White or Caucasian (Non-Hispanic)   \n",
       "2130                        Multiracial   \n",
       "\n",
       "                                  willPayDoubleInternet  \\\n",
       "0     I am willing to pay $20 per month on top of wh...   \n",
       "1     I am willing to pay $10 per month on top of wh...   \n",
       "2     I am willing to pay $10 per month on top of wh...   \n",
       "3     I am not willing to pay more for faster downlo...   \n",
       "4     I am not willing to pay more for faster downlo...   \n",
       "...                                                 ...   \n",
       "2126  I am willing to pay $20 per month on top of wh...   \n",
       "2127  I am willing to pay $5 per month on top of wha...   \n",
       "2128  I am willing to pay $10 per month on top of wh...   \n",
       "2129  I am not willing to pay more for faster downlo...   \n",
       "2130  I am not willing to pay more for faster downlo...   \n",
       "\n",
       "                       getNews  \n",
       "0           Social media sites  \n",
       "1           Social media sites  \n",
       "2     Television news stations  \n",
       "3     Television news stations  \n",
       "4     Television news stations  \n",
       "...                        ...  \n",
       "2126        Social media sites  \n",
       "2127  Television news stations  \n",
       "2128  Television news stations  \n",
       "2129          Print newspapers  \n",
       "2130                     Radio  \n",
       "\n",
       "[4336 rows x 6 columns]"
      ]
     },
     "execution_count": 26,
     "metadata": {},
     "output_type": "execute_result"
    }
   ],
   "source": [
    "df2.select_dtypes(exclude = np.number)"
   ]
  },
  {
   "cell_type": "markdown",
   "metadata": {},
   "source": [
    "To simplify column names, we will first recode several categorical values:\n",
    "\n",
    "Q3 - What is your employment status?\n",
    "- Employed full-time or part-time $\\rightarrow$ Employed\n",
    "\n",
    "Q89 - Which of the following is your most frequently used mechanism to get news?\n",
    "\n",
    "- Social media sites $\\rightarrow$ Social Media\n",
    "- Television news stations $\\rightarrow$ TV News\n",
    "- Online news sites not associated with a newspaper $\\rightarrow$ Online Non-Newspaper\n",
    "- I do not follow the news $\\rightarrow$ No News\n",
    "- Online news sites not associated with a traditional news organization $\\rightarrow$ Online Non-News\n",
    "\n",
    "Q29 - You said that you subscribe to home Internet access, how much more would you be willing to pay to receive double your download speed?\n",
    "\n",
    "- I am willing to pay \\\\$5 per month on top of what I already pay $\\rightarrow$ plus5 \n",
    "- I am willing to pay \\\\$10 per month on top of what I already pay $\\rightarrow$ plus10\n",
    "- I am willing to pay \\\\$20 per month on top of what I already pay $\\rightarrow$ plus20\n",
    "- I am willing to pay \\\\$30 or more per month on top of what I already pay $\\rightarrow$ plus30 \n",
    "- I am not willing to pay more for faster download speeds as my current speed is sufficient for my needs $\\rightarrow$ sufficient\n",
    "- I prefer faster speed but I am unwilling to pay more than I already do $\\rightarrow$ unwilling\n",
    "\n",
    "Q5 - Which category best describes your ethnicity?\n",
    "\n",
    "- White or Caucasian (Non-Hispanic) $\\rightarrow$ White (note that a separate category for Hispanic is provided)\n",
    "- South Asian (India, Pakistan, Sri Lanka $\\rightarrow$ South Asian\n",
    "- East Asian or Southeast Asian' $\\rightarrow$ E_SE Asian\n",
    "- Pacific Islander (including Native Hawaiian, Native American, or Native Alaskan) $\\rightarrow$ Pac Islander\n",
    "- Something else not listed here $\\rightarrow$ Other"
   ]
  },
  {
   "cell_type": "code",
   "execution_count": 27,
   "metadata": {},
   "outputs": [],
   "source": [
    "df2['status'].replace('Employed full-time or part-time', 'Employed', inplace=True)"
   ]
  },
  {
   "cell_type": "code",
   "execution_count": 28,
   "metadata": {},
   "outputs": [],
   "source": [
    "df2['getNews'].replace(['Social media sites', 'Television news stations', 'Online news sites not associated with a newspaper', 'I do not follow the news', 'Online news sites not associated with a traditional news organization'], \n",
    "                       ['social media', 'TV news', 'online non-newspaper', 'no news', 'online non-news'],  inplace = True)"
   ]
  },
  {
   "cell_type": "code",
   "execution_count": 29,
   "metadata": {},
   "outputs": [],
   "source": [
    "df2['willPayDoubleInternet'].replace(['I am willing to pay $5 per month on top of what I already pay', 'I am willing to pay $10 per month on top of what I already pay', 'I am willing to pay $20 per month on top of what I already pay', 'I am willing to pay $30 or more per month on top of what I already pay', 'I am not willing to pay more for faster download speeds as my current speed is sufficient for my needs', 'I prefer faster speed but I am unwilling to pay more than I already do'],\n",
    "                                    ['plus5', 'plus10', 'plus20', 'plus30', 'sufficient', 'unwilling'], inplace = True)"
   ]
  },
  {
   "cell_type": "code",
   "execution_count": 30,
   "metadata": {},
   "outputs": [],
   "source": [
    "df2['ethnicity'].replace(['White or Caucasian (Non-Hispanic)', 'South Asian (India, Pakistan, Sri Lanka)', 'East Asian or Southeast Asian', 'Pacific Islander (including Native Hawaiian, Native American, or Native Alaskan)', 'Something else not listed here'], \n",
    "                        ['white', 'South Asian', 'E_SE Asian', 'Pac Islander', 'Other'], inplace = True)"
   ]
  },
  {
   "cell_type": "code",
   "execution_count": 31,
   "metadata": {},
   "outputs": [],
   "source": [
    "# create dummies for all non-numeric columns\n",
    "\n",
    "cols = df2.select_dtypes(exclude = np.number).columns\n",
    "dummies = pd.get_dummies(df2[cols])"
   ]
  },
  {
   "cell_type": "code",
   "execution_count": 32,
   "metadata": {},
   "outputs": [],
   "source": [
    "# add dummy columns to dataframe\n",
    "\n",
    "df2 = pd.concat([df2, dummies], axis=1)"
   ]
  },
  {
   "cell_type": "code",
   "execution_count": 33,
   "metadata": {},
   "outputs": [],
   "source": [
    "# drop original columns \n",
    "\n",
    "df2.drop(columns = cols, inplace = True)"
   ]
  },
  {
   "cell_type": "code",
   "execution_count": 34,
   "metadata": {},
   "outputs": [
    {
     "data": {
      "text/plain": [
       "(4336, 174)"
      ]
     },
     "execution_count": 34,
     "metadata": {},
     "output_type": "execute_result"
    }
   ],
   "source": [
    "df2.shape"
   ]
  },
  {
   "cell_type": "code",
   "execution_count": 35,
   "metadata": {},
   "outputs": [
    {
     "data": {
      "text/html": [
       "<div>\n",
       "<style scoped>\n",
       "    .dataframe tbody tr th:only-of-type {\n",
       "        vertical-align: middle;\n",
       "    }\n",
       "\n",
       "    .dataframe tbody tr th {\n",
       "        vertical-align: top;\n",
       "    }\n",
       "\n",
       "    .dataframe thead th {\n",
       "        text-align: right;\n",
       "    }\n",
       "</style>\n",
       "<table border=\"1\" class=\"dataframe\">\n",
       "  <thead>\n",
       "    <tr style=\"text-align: right;\">\n",
       "      <th></th>\n",
       "      <th>age</th>\n",
       "      <th>childAtHome</th>\n",
       "      <th>HHIncome</th>\n",
       "      <th>ownsTV</th>\n",
       "      <th>ownsDVR</th>\n",
       "      <th>ownsStreamingBox</th>\n",
       "      <th>ownsStreamingDrive</th>\n",
       "      <th>ownsDigTVAntenna</th>\n",
       "      <th>ownsDVD</th>\n",
       "      <th>ownsGaming</th>\n",
       "      <th>...</th>\n",
       "      <th>getNews_News aggregators</th>\n",
       "      <th>getNews_Online version of newspapers</th>\n",
       "      <th>getNews_Print newspapers</th>\n",
       "      <th>getNews_Radio</th>\n",
       "      <th>getNews_TV news</th>\n",
       "      <th>getNews_Variety/talk shows</th>\n",
       "      <th>getNews_no news</th>\n",
       "      <th>getNews_online non-news</th>\n",
       "      <th>getNews_online non-newspaper</th>\n",
       "      <th>getNews_social media</th>\n",
       "    </tr>\n",
       "  </thead>\n",
       "  <tbody>\n",
       "    <tr>\n",
       "      <th>0</th>\n",
       "      <td>31</td>\n",
       "      <td>1</td>\n",
       "      <td>2.0</td>\n",
       "      <td>0</td>\n",
       "      <td>0</td>\n",
       "      <td>0</td>\n",
       "      <td>0</td>\n",
       "      <td>0</td>\n",
       "      <td>1</td>\n",
       "      <td>1</td>\n",
       "      <td>...</td>\n",
       "      <td>0</td>\n",
       "      <td>0</td>\n",
       "      <td>0</td>\n",
       "      <td>0</td>\n",
       "      <td>0</td>\n",
       "      <td>0</td>\n",
       "      <td>0</td>\n",
       "      <td>0</td>\n",
       "      <td>0</td>\n",
       "      <td>1</td>\n",
       "    </tr>\n",
       "    <tr>\n",
       "      <th>1</th>\n",
       "      <td>30</td>\n",
       "      <td>1</td>\n",
       "      <td>1.0</td>\n",
       "      <td>1</td>\n",
       "      <td>1</td>\n",
       "      <td>0</td>\n",
       "      <td>0</td>\n",
       "      <td>0</td>\n",
       "      <td>1</td>\n",
       "      <td>1</td>\n",
       "      <td>...</td>\n",
       "      <td>0</td>\n",
       "      <td>0</td>\n",
       "      <td>0</td>\n",
       "      <td>0</td>\n",
       "      <td>0</td>\n",
       "      <td>0</td>\n",
       "      <td>0</td>\n",
       "      <td>0</td>\n",
       "      <td>0</td>\n",
       "      <td>1</td>\n",
       "    </tr>\n",
       "    <tr>\n",
       "      <th>2</th>\n",
       "      <td>61</td>\n",
       "      <td>0</td>\n",
       "      <td>3.0</td>\n",
       "      <td>1</td>\n",
       "      <td>1</td>\n",
       "      <td>0</td>\n",
       "      <td>0</td>\n",
       "      <td>0</td>\n",
       "      <td>1</td>\n",
       "      <td>0</td>\n",
       "      <td>...</td>\n",
       "      <td>0</td>\n",
       "      <td>0</td>\n",
       "      <td>0</td>\n",
       "      <td>0</td>\n",
       "      <td>1</td>\n",
       "      <td>0</td>\n",
       "      <td>0</td>\n",
       "      <td>0</td>\n",
       "      <td>0</td>\n",
       "      <td>0</td>\n",
       "    </tr>\n",
       "    <tr>\n",
       "      <th>3</th>\n",
       "      <td>68</td>\n",
       "      <td>0</td>\n",
       "      <td>2.0</td>\n",
       "      <td>1</td>\n",
       "      <td>0</td>\n",
       "      <td>1</td>\n",
       "      <td>1</td>\n",
       "      <td>0</td>\n",
       "      <td>1</td>\n",
       "      <td>1</td>\n",
       "      <td>...</td>\n",
       "      <td>0</td>\n",
       "      <td>0</td>\n",
       "      <td>0</td>\n",
       "      <td>0</td>\n",
       "      <td>1</td>\n",
       "      <td>0</td>\n",
       "      <td>0</td>\n",
       "      <td>0</td>\n",
       "      <td>0</td>\n",
       "      <td>0</td>\n",
       "    </tr>\n",
       "    <tr>\n",
       "      <th>4</th>\n",
       "      <td>50</td>\n",
       "      <td>0</td>\n",
       "      <td>2.0</td>\n",
       "      <td>1</td>\n",
       "      <td>1</td>\n",
       "      <td>0</td>\n",
       "      <td>0</td>\n",
       "      <td>0</td>\n",
       "      <td>1</td>\n",
       "      <td>0</td>\n",
       "      <td>...</td>\n",
       "      <td>0</td>\n",
       "      <td>0</td>\n",
       "      <td>0</td>\n",
       "      <td>0</td>\n",
       "      <td>1</td>\n",
       "      <td>0</td>\n",
       "      <td>0</td>\n",
       "      <td>0</td>\n",
       "      <td>0</td>\n",
       "      <td>0</td>\n",
       "    </tr>\n",
       "  </tbody>\n",
       "</table>\n",
       "<p>5 rows × 174 columns</p>\n",
       "</div>"
      ],
      "text/plain": [
       "   age  childAtHome  HHIncome  ownsTV  ownsDVR  ownsStreamingBox  \\\n",
       "0   31            1       2.0       0        0                 0   \n",
       "1   30            1       1.0       1        1                 0   \n",
       "2   61            0       3.0       1        1                 0   \n",
       "3   68            0       2.0       1        0                 1   \n",
       "4   50            0       2.0       1        1                 0   \n",
       "\n",
       "   ownsStreamingDrive  ownsDigTVAntenna  ownsDVD  ownsGaming  ...  \\\n",
       "0                   0                 0        1           1  ...   \n",
       "1                   0                 0        1           1  ...   \n",
       "2                   0                 0        1           0  ...   \n",
       "3                   1                 0        1           1  ...   \n",
       "4                   0                 0        1           0  ...   \n",
       "\n",
       "   getNews_News aggregators  getNews_Online version of newspapers  \\\n",
       "0                         0                                     0   \n",
       "1                         0                                     0   \n",
       "2                         0                                     0   \n",
       "3                         0                                     0   \n",
       "4                         0                                     0   \n",
       "\n",
       "   getNews_Print newspapers  getNews_Radio  getNews_TV news  \\\n",
       "0                         0              0                0   \n",
       "1                         0              0                0   \n",
       "2                         0              0                1   \n",
       "3                         0              0                1   \n",
       "4                         0              0                1   \n",
       "\n",
       "   getNews_Variety/talk shows  getNews_no news  getNews_online non-news  \\\n",
       "0                           0                0                        0   \n",
       "1                           0                0                        0   \n",
       "2                           0                0                        0   \n",
       "3                           0                0                        0   \n",
       "4                           0                0                        0   \n",
       "\n",
       "   getNews_online non-newspaper  getNews_social media  \n",
       "0                             0                     1  \n",
       "1                             0                     1  \n",
       "2                             0                     0  \n",
       "3                             0                     0  \n",
       "4                             0                     0  \n",
       "\n",
       "[5 rows x 174 columns]"
      ]
     },
     "execution_count": 35,
     "metadata": {},
     "output_type": "execute_result"
    }
   ],
   "source": [
    "df2.head()"
   ]
  },
  {
   "cell_type": "markdown",
   "metadata": {},
   "source": [
    "Next, additional feature engineering will be performed to reduce the dimensions. Question 37 asks: For the following types of entertainment activities, please rank your top three, with \"1\" being the most preferred.\n",
    "\n",
    "As we are interested in media that could be streamed, we will create a column for \"prefMovieTV\" as 1 for anyone who has ranked going to the movies or watching television as one of their top 3 preferred entertainment activities, and 0 otherwise."
   ]
  },
  {
   "cell_type": "code",
   "execution_count": 36,
   "metadata": {},
   "outputs": [],
   "source": [
    "df2['prefMovieTV'] = 0\n",
    "df2.loc[(df2['prefMovie']>0)| (df2['prefTV']>0), 'prefMovieTV'] = 1"
   ]
  },
  {
   "cell_type": "code",
   "execution_count": 37,
   "metadata": {},
   "outputs": [],
   "source": [
    "drop = [c for c in df2.columns if \"pref\" in c and c != \"prefMovieTV\"]"
   ]
  },
  {
   "cell_type": "code",
   "execution_count": 38,
   "metadata": {},
   "outputs": [
    {
     "data": {
      "text/plain": [
       "['prefLiveShow',\n",
       " 'prefMovie',\n",
       " 'prefTV',\n",
       " 'prefMusic',\n",
       " 'prefBook',\n",
       " 'prefMagazine',\n",
       " 'prefNewspaper',\n",
       " 'prefRadio',\n",
       " 'prefVideoGames',\n",
       " 'prefSocial']"
      ]
     },
     "execution_count": 38,
     "metadata": {},
     "output_type": "execute_result"
    }
   ],
   "source": [
    "drop"
   ]
  },
  {
   "cell_type": "code",
   "execution_count": 39,
   "metadata": {},
   "outputs": [],
   "source": [
    "df2.drop(columns = drop, inplace = True)"
   ]
  },
  {
   "cell_type": "code",
   "execution_count": 40,
   "metadata": {},
   "outputs": [
    {
     "data": {
      "text/plain": [
       "(4336, 165)"
      ]
     },
     "execution_count": 40,
     "metadata": {},
     "output_type": "execute_result"
    }
   ],
   "source": [
    "df2.shape"
   ]
  },
  {
   "cell_type": "markdown",
   "metadata": {},
   "source": [
    "Similarly, question 22 asks: What types of apps do you use frequently (everyday/weekly) on your smartphone? \n",
    "\n",
    "As we are interested in video streaming, we will create a new variable called \"useVideoApps\" that is set to 1 if the respondent indicated that they use movie or Video apps frequently, and 0 otherwise."
   ]
  },
  {
   "cell_type": "code",
   "execution_count": 41,
   "metadata": {},
   "outputs": [],
   "source": [
    "df2['useVideoApps'] = 0\n",
    "df2.loc[(df2['appVideo']>0)| (df2['appMovie']>0), 'useVideoApps'] = 1"
   ]
  },
  {
   "cell_type": "code",
   "execution_count": 42,
   "metadata": {},
   "outputs": [
    {
     "name": "stdout",
     "output_type": "stream",
     "text": [
      "['appPhotoVideo', 'appBanking', 'appFitness', 'appFoodDrink', 'appRetail', 'appNavigation', 'appSocial', 'appReading', 'appMusic', 'appVideo', 'appReviews', 'appNewsAggregator', 'appNewspaper', 'appMagazines', 'appDiagnosticUtilities', 'appQRReader', 'appTravel', 'appTransportation', 'appLocation', 'appLanguage', 'appMovie', 'appBusiness', 'appGames', 'appProductivity', 'appSports', 'appWeather', 'appBrowser', 'appVOIP', 'appDating', 'appMessaging', 'appMobilePayment', 'appEducation', 'appTickets', 'appReservations', 'appHobby', 'appNA ']\n"
     ]
    }
   ],
   "source": [
    "drop = [c for c in df2.columns if \"app\" in c and c != \"useVideoApps\"]\n",
    "print(drop)\n",
    "df2.drop(columns = drop, inplace = True)"
   ]
  },
  {
   "cell_type": "markdown",
   "metadata": {},
   "source": [
    "Next, additional null values will be dealt with. Since our target variable \"target_willing\" will be used for prediction, we will drop any rows with NA values in this column."
   ]
  },
  {
   "cell_type": "code",
   "execution_count": 43,
   "metadata": {},
   "outputs": [],
   "source": [
    "df2.dropna(subset=['target_willing'], inplace=True)"
   ]
  },
  {
   "cell_type": "code",
   "execution_count": 44,
   "metadata": {},
   "outputs": [
    {
     "data": {
      "text/plain": [
       "(3584, 130)"
      ]
     },
     "execution_count": 44,
     "metadata": {},
     "output_type": "execute_result"
    }
   ],
   "source": [
    "# around 750 rows were dropped\n",
    "df2.shape"
   ]
  },
  {
   "cell_type": "code",
   "execution_count": 45,
   "metadata": {},
   "outputs": [
    {
     "data": {
      "text/plain": [
       "HHIncome              220\n",
       "infoForTargetAds      121\n",
       "infoIDTheft            66\n",
       "age                     0\n",
       "gender_Female           0\n",
       "                     ... \n",
       "willBuyFitnessBand      0\n",
       "willBuySmartwatch       0\n",
       "willBuySmartphone       0\n",
       "willbuyE-Reader         0\n",
       "useVideoApps            0\n",
       "Length: 130, dtype: int64"
      ]
     },
     "execution_count": 45,
     "metadata": {},
     "output_type": "execute_result"
    }
   ],
   "source": [
    "df2.isna().sum().sort_values(ascending = False)"
   ]
  },
  {
   "cell_type": "markdown",
   "metadata": {},
   "source": [
    "There are around 200 NA values in the HHIncome column, 121 in teh infoForTargetAds column, 66 in the infoIDTheft column. Since the total number of rows is quite small, we will remove these rows from the dataset."
   ]
  },
  {
   "cell_type": "code",
   "execution_count": 46,
   "metadata": {},
   "outputs": [],
   "source": [
    "df2.dropna(inplace = True)"
   ]
  },
  {
   "cell_type": "code",
   "execution_count": 47,
   "metadata": {},
   "outputs": [
    {
     "data": {
      "text/plain": [
       "(3222, 130)"
      ]
     },
     "execution_count": 47,
     "metadata": {},
     "output_type": "execute_result"
    }
   ],
   "source": [
    "df2.shape"
   ]
  },
  {
   "cell_type": "markdown",
   "metadata": {},
   "source": [
    "We'll now look at explaining and visualizing the updated and cleaned data that we have."
   ]
  },
  {
   "cell_type": "code",
   "execution_count": 48,
   "metadata": {},
   "outputs": [
    {
     "data": {
      "text/html": [
       "<div>\n",
       "<style scoped>\n",
       "    .dataframe tbody tr th:only-of-type {\n",
       "        vertical-align: middle;\n",
       "    }\n",
       "\n",
       "    .dataframe tbody tr th {\n",
       "        vertical-align: top;\n",
       "    }\n",
       "\n",
       "    .dataframe thead th {\n",
       "        text-align: right;\n",
       "    }\n",
       "</style>\n",
       "<table border=\"1\" class=\"dataframe\">\n",
       "  <thead>\n",
       "    <tr style=\"text-align: right;\">\n",
       "      <th></th>\n",
       "      <th>count</th>\n",
       "      <th>mean</th>\n",
       "      <th>std</th>\n",
       "      <th>min</th>\n",
       "      <th>25%</th>\n",
       "      <th>50%</th>\n",
       "      <th>75%</th>\n",
       "      <th>max</th>\n",
       "    </tr>\n",
       "  </thead>\n",
       "  <tbody>\n",
       "    <tr>\n",
       "      <th>age</th>\n",
       "      <td>3222.0</td>\n",
       "      <td>40.457480</td>\n",
       "      <td>18.353489</td>\n",
       "      <td>14.0</td>\n",
       "      <td>25.0</td>\n",
       "      <td>35.0</td>\n",
       "      <td>55.0</td>\n",
       "      <td>87.0</td>\n",
       "    </tr>\n",
       "    <tr>\n",
       "      <th>childAtHome</th>\n",
       "      <td>3222.0</td>\n",
       "      <td>0.436685</td>\n",
       "      <td>0.496052</td>\n",
       "      <td>0.0</td>\n",
       "      <td>0.0</td>\n",
       "      <td>0.0</td>\n",
       "      <td>1.0</td>\n",
       "      <td>1.0</td>\n",
       "    </tr>\n",
       "    <tr>\n",
       "      <th>HHIncome</th>\n",
       "      <td>3222.0</td>\n",
       "      <td>1.572626</td>\n",
       "      <td>1.050200</td>\n",
       "      <td>0.0</td>\n",
       "      <td>1.0</td>\n",
       "      <td>2.0</td>\n",
       "      <td>2.0</td>\n",
       "      <td>4.0</td>\n",
       "    </tr>\n",
       "    <tr>\n",
       "      <th>ownsTV</th>\n",
       "      <td>3222.0</td>\n",
       "      <td>0.613594</td>\n",
       "      <td>0.487001</td>\n",
       "      <td>0.0</td>\n",
       "      <td>0.0</td>\n",
       "      <td>1.0</td>\n",
       "      <td>1.0</td>\n",
       "      <td>1.0</td>\n",
       "    </tr>\n",
       "    <tr>\n",
       "      <th>ownsDVR</th>\n",
       "      <td>3222.0</td>\n",
       "      <td>0.337989</td>\n",
       "      <td>0.473098</td>\n",
       "      <td>0.0</td>\n",
       "      <td>0.0</td>\n",
       "      <td>0.0</td>\n",
       "      <td>1.0</td>\n",
       "      <td>1.0</td>\n",
       "    </tr>\n",
       "    <tr>\n",
       "      <th>...</th>\n",
       "      <td>...</td>\n",
       "      <td>...</td>\n",
       "      <td>...</td>\n",
       "      <td>...</td>\n",
       "      <td>...</td>\n",
       "      <td>...</td>\n",
       "      <td>...</td>\n",
       "      <td>...</td>\n",
       "    </tr>\n",
       "    <tr>\n",
       "      <th>getNews_online non-news</th>\n",
       "      <td>3222.0</td>\n",
       "      <td>0.040658</td>\n",
       "      <td>0.197527</td>\n",
       "      <td>0.0</td>\n",
       "      <td>0.0</td>\n",
       "      <td>0.0</td>\n",
       "      <td>0.0</td>\n",
       "      <td>1.0</td>\n",
       "    </tr>\n",
       "    <tr>\n",
       "      <th>getNews_online non-newspaper</th>\n",
       "      <td>3222.0</td>\n",
       "      <td>0.060211</td>\n",
       "      <td>0.237914</td>\n",
       "      <td>0.0</td>\n",
       "      <td>0.0</td>\n",
       "      <td>0.0</td>\n",
       "      <td>0.0</td>\n",
       "      <td>1.0</td>\n",
       "    </tr>\n",
       "    <tr>\n",
       "      <th>getNews_social media</th>\n",
       "      <td>3222.0</td>\n",
       "      <td>0.207325</td>\n",
       "      <td>0.405453</td>\n",
       "      <td>0.0</td>\n",
       "      <td>0.0</td>\n",
       "      <td>0.0</td>\n",
       "      <td>0.0</td>\n",
       "      <td>1.0</td>\n",
       "    </tr>\n",
       "    <tr>\n",
       "      <th>prefMovieTV</th>\n",
       "      <td>3222.0</td>\n",
       "      <td>0.748603</td>\n",
       "      <td>0.433883</td>\n",
       "      <td>0.0</td>\n",
       "      <td>0.0</td>\n",
       "      <td>1.0</td>\n",
       "      <td>1.0</td>\n",
       "      <td>1.0</td>\n",
       "    </tr>\n",
       "    <tr>\n",
       "      <th>useVideoApps</th>\n",
       "      <td>3222.0</td>\n",
       "      <td>0.301366</td>\n",
       "      <td>0.458922</td>\n",
       "      <td>0.0</td>\n",
       "      <td>0.0</td>\n",
       "      <td>0.0</td>\n",
       "      <td>1.0</td>\n",
       "      <td>1.0</td>\n",
       "    </tr>\n",
       "  </tbody>\n",
       "</table>\n",
       "<p>130 rows × 8 columns</p>\n",
       "</div>"
      ],
      "text/plain": [
       "                               count       mean        std   min   25%   50%  \\\n",
       "age                           3222.0  40.457480  18.353489  14.0  25.0  35.0   \n",
       "childAtHome                   3222.0   0.436685   0.496052   0.0   0.0   0.0   \n",
       "HHIncome                      3222.0   1.572626   1.050200   0.0   1.0   2.0   \n",
       "ownsTV                        3222.0   0.613594   0.487001   0.0   0.0   1.0   \n",
       "ownsDVR                       3222.0   0.337989   0.473098   0.0   0.0   0.0   \n",
       "...                              ...        ...        ...   ...   ...   ...   \n",
       "getNews_online non-news       3222.0   0.040658   0.197527   0.0   0.0   0.0   \n",
       "getNews_online non-newspaper  3222.0   0.060211   0.237914   0.0   0.0   0.0   \n",
       "getNews_social media          3222.0   0.207325   0.405453   0.0   0.0   0.0   \n",
       "prefMovieTV                   3222.0   0.748603   0.433883   0.0   0.0   1.0   \n",
       "useVideoApps                  3222.0   0.301366   0.458922   0.0   0.0   0.0   \n",
       "\n",
       "                               75%   max  \n",
       "age                           55.0  87.0  \n",
       "childAtHome                    1.0   1.0  \n",
       "HHIncome                       2.0   4.0  \n",
       "ownsTV                         1.0   1.0  \n",
       "ownsDVR                        1.0   1.0  \n",
       "...                            ...   ...  \n",
       "getNews_online non-news        0.0   1.0  \n",
       "getNews_online non-newspaper   0.0   1.0  \n",
       "getNews_social media           0.0   1.0  \n",
       "prefMovieTV                    1.0   1.0  \n",
       "useVideoApps                   1.0   1.0  \n",
       "\n",
       "[130 rows x 8 columns]"
      ]
     },
     "execution_count": 48,
     "metadata": {},
     "output_type": "execute_result"
    }
   ],
   "source": [
    "# Displaying the summary statistics for each column value to have a better sense of the data\n",
    "#pd.set_option('display.max_rows', None)\n",
    "df2.describe().transpose()"
   ]
  },
  {
   "cell_type": "markdown",
   "metadata": {},
   "source": [
    "#Analysis of Summary Statistics\n",
    "\n",
    "Based on the analysis the columns:\n",
    "\n",
    "Q15 Of the time you spend watching movies, what percentage of time do you watch on the following devices?\n",
    "\n",
    "Q16 Of the time you spend watching sports, what percentage of time do you watch on the following devices? \n",
    "\n",
    "Have negative value -1 to denote user who do not watch movies/sports , so we will replace them by 0."
   ]
  },
  {
   "cell_type": "code",
   "execution_count": 49,
   "metadata": {},
   "outputs": [],
   "source": [
    "df2.replace((-1),(0), inplace=True)"
   ]
  },
  {
   "cell_type": "markdown",
   "metadata": {},
   "source": [
    "#Visualizations"
   ]
  },
  {
   "cell_type": "code",
   "execution_count": 50,
   "metadata": {},
   "outputs": [
    {
     "data": {
      "image/png": "[encoded data removed]",
      "text/plain": [
       "<Figure size 432x288 with 1 Axes>"
      ]
     },
     "metadata": {
      "needs_background": "light"
     },
     "output_type": "display_data"
    }
   ],
   "source": [
    "#Plot of the target variable\n",
    "df2.target_willing.value_counts().plot(kind='bar')\n",
    "plt.xlabel('Level of willingness to View advertisements')\n",
    "plt.ylabel('Frequency')\n",
    "plt.title('Plot for users willingness to view advertisements in lieu of higher subscription cost\\n')\n",
    "plt.show()"
   ]
  },
  {
   "cell_type": "code",
   "execution_count": 51,
   "metadata": {},
   "outputs": [
    {
     "data": {
      "image/png": "[encoded data removed]",
      "text/plain": [
       "<Figure size 576x432 with 1 Axes>"
      ]
     },
     "metadata": {
      "needs_background": "light"
     },
     "output_type": "display_data"
    }
   ],
   "source": [
    "# Visualization between demographics and target variable\n",
    "df_plot = df2[['target_willing','region_Midwest','region_Northeast','region_South','region_West']].groupby('target_willing').sum()\n",
    "df_plot.plot.bar(title = 'Region status wise bifurcation for each value of target variable', figsize = (8,6), grid = True)\n",
    "plt.xlabel('Level of willingness to View advertisements')\n",
    "plt.ylabel('Frequency')\n",
    "plt.show()"
   ]
  },
  {
   "cell_type": "code",
   "execution_count": 52,
   "metadata": {},
   "outputs": [
    {
     "data": {
      "image/png": "[encoded data removed]",
      "text/plain": [
       "<Figure size 576x432 with 1 Axes>"
      ]
     },
     "metadata": {
      "needs_background": "light"
     },
     "output_type": "display_data"
    }
   ],
   "source": [
    "# Visualization between Employment status and target variable\n",
    "df_plot = df2[['target_willing','status_Employed','status_Retired','status_Self-employed','status_Student','status_Unemployed']].groupby('target_willing').sum()\n",
    "df_plot.plot.bar(title = 'Employment status wise bifurcation for each value of target variable', figsize = (8,6), grid = True)\n",
    "plt.xlabel('Level of willingness to View advertisements')\n",
    "plt.ylabel('Frequency')\n",
    "plt.show()"
   ]
  },
  {
   "cell_type": "code",
   "execution_count": 53,
   "metadata": {},
   "outputs": [
    {
     "data": {
      "image/png": "[encoded data removed]",
      "text/plain": [
       "<Figure size 576x432 with 1 Axes>"
      ]
     },
     "metadata": {
      "needs_background": "light"
     },
     "output_type": "display_data"
    }
   ],
   "source": [
    "# Distribution of users who prefer streaming services for movies/TV across target variable\n",
    "temp_grp_df = df2[['target_willing','freqMovStream','freqTVStream']].groupby('target_willing').sum()\n",
    "temp_grp_df.plot.bar(title = 'Bifurcation of users who prefer streaming services for movies/TV', figsize = (8,6), grid = True)\n",
    "plt.xlabel('Level of willingness to View advertisements')\n",
    "plt.ylabel('Count of users')\n",
    "plt.show()"
   ]
  },
  {
   "cell_type": "code",
   "execution_count": 54,
   "metadata": {},
   "outputs": [
    {
     "data": {
      "image/png": "[encoded data removed]",
      "text/plain": [
       "<Figure size 576x432 with 1 Axes>"
      ]
     },
     "metadata": {
      "needs_background": "light"
     },
     "output_type": "display_data"
    }
   ],
   "source": [
    "# Distribution of video apps users across target variable\n",
    "temp_grp_df = df2[['target_willing','useVideoApps']].groupby('target_willing').sum()\n",
    "temp_grp_df.plot.bar(title = 'Usage of video apps for each value of target variable', figsize = (8,6), grid = True)\n",
    "plt.xlabel('Level of willingness to View advertisements')\n",
    "plt.ylabel('Count of Video app users')\n",
    "plt.show()"
   ]
  },
  {
   "cell_type": "code",
   "execution_count": 55,
   "metadata": {},
   "outputs": [
    {
     "data": {
      "image/png": "[encoded data removed]",
      "text/plain": [
       "<Figure size 576x432 with 1 Axes>"
      ]
     },
     "metadata": {
      "needs_background": "light"
     },
     "output_type": "display_data"
    }
   ],
   "source": [
    "# Distribution of users with preference towards movie and TV as entertainment activities\n",
    "temp_grp_df = df2[['target_willing','prefMovieTV']].groupby('target_willing').sum()\n",
    "temp_grp_df.plot.bar(title = 'Distribution of movie/TV preferring users for each value of target variable', figsize = (8,6), grid = True)\n",
    "plt.xlabel('Level of willingness to View advertisements')\n",
    "plt.ylabel('Count of users')\n",
    "plt.show()"
   ]
  },
  {
   "cell_type": "code",
   "execution_count": 56,
   "metadata": {},
   "outputs": [
    {
     "data": {
      "text/plain": [
       "<AxesSubplot:>"
      ]
     },
     "execution_count": 56,
     "metadata": {},
     "output_type": "execute_result"
    },
    {
     "data": {
      "image/png": "[encoded data removed]",
      "text/plain": [
       "<Figure size 432x288 with 2 Axes>"
      ]
     },
     "metadata": {
      "needs_background": "light"
     },
     "output_type": "display_data"
    }
   ],
   "source": [
    "cols = [c for c in df2.columns if \"subs\" in c or c == \"target_willing\"]\n",
    "df2_subs = df2[cols]\n",
    "matrix = np.triu(df2_subs.corr())\n",
    "sns.heatmap(df2_subs.corr(), annot=True, mask=matrix,fmt='.1g',vmin=-1, vmax=1, center= 0,cmap= 'coolwarm')"
   ]
  },
  {
   "cell_type": "code",
   "execution_count": 57,
   "metadata": {},
   "outputs": [
    {
     "data": {
      "text/plain": [
       "<AxesSubplot:>"
      ]
     },
     "execution_count": 57,
     "metadata": {},
     "output_type": "execute_result"
    },
    {
     "data": {
      "image/png": "[encoded data removed]",
      "text/plain": [
       "<Figure size 432x288 with 2 Axes>"
      ]
     },
     "metadata": {
      "needs_background": "light"
     },
     "output_type": "display_data"
    }
   ],
   "source": [
    "cols = [c for c in df2.columns if \"willPayDoubleInternet\" in c or c == \"target_willing\"]\n",
    "df2_doubleInternet = df2[cols]\n",
    "matrix = np.triu(df2_doubleInternet.corr())\n",
    "sns.heatmap(df2_doubleInternet.corr(), annot=True, mask=matrix,fmt='.1g',vmin=-1, vmax=1, center= 0,cmap= 'coolwarm')"
   ]
  },
  {
   "cell_type": "code",
   "execution_count": null,
   "metadata": {},
   "outputs": [],
   "source": []
  }
 ],
 "metadata": {
  "kernelspec": {
   "display_name": "Python 3",
   "language": "python",
   "name": "python3"
  },
  "language_info": {
   "codemirror_mode": {
    "name": "ipython",
    "version": 3
   },
   "file_extension": ".py",
   "mimetype": "text/x-python",
   "name": "python",
   "nbconvert_exporter": "python",
   "pygments_lexer": "ipython3",
   "version": "3.9.1"
  }
 },
 "nbformat": 4,
 "nbformat_minor": 4
}
